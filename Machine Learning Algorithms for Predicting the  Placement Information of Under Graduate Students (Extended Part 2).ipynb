{
 "cells": [
  {
   "cell_type": "code",
   "execution_count": 43,
   "metadata": {},
   "outputs": [],
   "source": [
    "import pandas as pd\n",
    "import numpy as np\n",
    "import matplotlib.pyplot as plt\n",
    "import seaborn as sns\n",
    "%matplotlib inline\n"
   ]
  },
  {
   "cell_type": "code",
   "execution_count": 44,
   "metadata": {},
   "outputs": [
    {
     "data": {
      "text/html": [
       "<div>\n",
       "<style scoped>\n",
       "    .dataframe tbody tr th:only-of-type {\n",
       "        vertical-align: middle;\n",
       "    }\n",
       "\n",
       "    .dataframe tbody tr th {\n",
       "        vertical-align: top;\n",
       "    }\n",
       "\n",
       "    .dataframe thead th {\n",
       "        text-align: right;\n",
       "    }\n",
       "</style>\n",
       "<table border=\"1\" class=\"dataframe\">\n",
       "  <thead>\n",
       "    <tr style=\"text-align: right;\">\n",
       "      <th></th>\n",
       "      <th>Roll.no</th>\n",
       "      <th>CGPA</th>\n",
       "      <th>tot_arriers</th>\n",
       "      <th>clrd_arriers</th>\n",
       "      <th>Interns</th>\n",
       "      <th>Paid_intrn</th>\n",
       "      <th>Projects</th>\n",
       "      <th>Articels</th>\n",
       "      <th>Programming Language</th>\n",
       "      <th>Area_of_intrest_1</th>\n",
       "      <th>Unnamed: 10</th>\n",
       "      <th>Annual Package</th>\n",
       "      <th>Company_1</th>\n",
       "    </tr>\n",
       "  </thead>\n",
       "  <tbody>\n",
       "    <tr>\n",
       "      <th>0</th>\n",
       "      <td>cseXXXX</td>\n",
       "      <td>8.2</td>\n",
       "      <td>0</td>\n",
       "      <td>0</td>\n",
       "      <td>3</td>\n",
       "      <td>1</td>\n",
       "      <td>5</td>\n",
       "      <td>2</td>\n",
       "      <td>java</td>\n",
       "      <td>iot</td>\n",
       "      <td>NaN</td>\n",
       "      <td>1100000</td>\n",
       "      <td>Hidden Brains</td>\n",
       "    </tr>\n",
       "    <tr>\n",
       "      <th>1</th>\n",
       "      <td>cseXXXX</td>\n",
       "      <td>7.2</td>\n",
       "      <td>3</td>\n",
       "      <td>3</td>\n",
       "      <td>1</td>\n",
       "      <td>1</td>\n",
       "      <td>1</td>\n",
       "      <td>0</td>\n",
       "      <td>java</td>\n",
       "      <td>ml</td>\n",
       "      <td>NaN</td>\n",
       "      <td>450000</td>\n",
       "      <td>Hyperlink Infosystem</td>\n",
       "    </tr>\n",
       "    <tr>\n",
       "      <th>2</th>\n",
       "      <td>cseXXXX</td>\n",
       "      <td>2.3</td>\n",
       "      <td>14</td>\n",
       "      <td>2</td>\n",
       "      <td>0</td>\n",
       "      <td>0</td>\n",
       "      <td>0</td>\n",
       "      <td>0</td>\n",
       "      <td>python</td>\n",
       "      <td>ds</td>\n",
       "      <td>NaN</td>\n",
       "      <td>0</td>\n",
       "      <td>0</td>\n",
       "    </tr>\n",
       "    <tr>\n",
       "      <th>3</th>\n",
       "      <td>cseXXXX</td>\n",
       "      <td>6.5</td>\n",
       "      <td>0</td>\n",
       "      <td>0</td>\n",
       "      <td>1</td>\n",
       "      <td>2</td>\n",
       "      <td>3</td>\n",
       "      <td>1</td>\n",
       "      <td>c</td>\n",
       "      <td>iot</td>\n",
       "      <td>NaN</td>\n",
       "      <td>350000</td>\n",
       "      <td>Hidden Brains</td>\n",
       "    </tr>\n",
       "    <tr>\n",
       "      <th>4</th>\n",
       "      <td>cseXXXX</td>\n",
       "      <td>9.5</td>\n",
       "      <td>0</td>\n",
       "      <td>0</td>\n",
       "      <td>1</td>\n",
       "      <td>1</td>\n",
       "      <td>1</td>\n",
       "      <td>1</td>\n",
       "      <td>c</td>\n",
       "      <td>networking</td>\n",
       "      <td>NaN</td>\n",
       "      <td>1050000</td>\n",
       "      <td>Hyperlink Infosystem</td>\n",
       "    </tr>\n",
       "  </tbody>\n",
       "</table>\n",
       "</div>"
      ],
      "text/plain": [
       "   Roll.no  CGPA  tot_arriers  clrd_arriers  Interns  Paid_intrn  Projects  \\\n",
       "0  cseXXXX   8.2            0             0        3           1         5   \n",
       "1  cseXXXX   7.2            3             3        1           1         1   \n",
       "2  cseXXXX   2.3           14             2        0           0         0   \n",
       "3  cseXXXX   6.5            0             0        1           2         3   \n",
       "4  cseXXXX   9.5            0             0        1           1         1   \n",
       "\n",
       "   Articels Programming Language Area_of_intrest_1  Unnamed: 10  \\\n",
       "0         2                 java               iot          NaN   \n",
       "1         0                 java                ml          NaN   \n",
       "2         0               python                ds          NaN   \n",
       "3         1                    c               iot          NaN   \n",
       "4         1                    c        networking          NaN   \n",
       "\n",
       "   Annual Package             Company_1  \n",
       "0         1100000         Hidden Brains  \n",
       "1          450000  Hyperlink Infosystem  \n",
       "2               0                     0  \n",
       "3          350000         Hidden Brains  \n",
       "4         1050000  Hyperlink Infosystem  "
      ]
     },
     "execution_count": 44,
     "metadata": {},
     "output_type": "execute_result"
    }
   ],
   "source": [
    "dat=pd.read_csv(\"AmritaproSample9.csv\")\n",
    "dat.head()"
   ]
  },
  {
   "cell_type": "code",
   "execution_count": 45,
   "metadata": {},
   "outputs": [
    {
     "data": {
      "text/html": [
       "<div>\n",
       "<style scoped>\n",
       "    .dataframe tbody tr th:only-of-type {\n",
       "        vertical-align: middle;\n",
       "    }\n",
       "\n",
       "    .dataframe tbody tr th {\n",
       "        vertical-align: top;\n",
       "    }\n",
       "\n",
       "    .dataframe thead th {\n",
       "        text-align: right;\n",
       "    }\n",
       "</style>\n",
       "<table border=\"1\" class=\"dataframe\">\n",
       "  <thead>\n",
       "    <tr style=\"text-align: right;\">\n",
       "      <th></th>\n",
       "      <th>Roll.no</th>\n",
       "      <th>CGPA</th>\n",
       "      <th>tot_arriers</th>\n",
       "      <th>clrd_arriers</th>\n",
       "      <th>Interns</th>\n",
       "      <th>Paid_intrn</th>\n",
       "      <th>Projects</th>\n",
       "      <th>Articels</th>\n",
       "      <th>Programming Language</th>\n",
       "      <th>Area_of_intrest_1</th>\n",
       "      <th>Annual Package</th>\n",
       "      <th>Company_1</th>\n",
       "    </tr>\n",
       "  </thead>\n",
       "  <tbody>\n",
       "    <tr>\n",
       "      <th>0</th>\n",
       "      <td>cseXXXX</td>\n",
       "      <td>8.2</td>\n",
       "      <td>0</td>\n",
       "      <td>0</td>\n",
       "      <td>3</td>\n",
       "      <td>1</td>\n",
       "      <td>5</td>\n",
       "      <td>2</td>\n",
       "      <td>java</td>\n",
       "      <td>iot</td>\n",
       "      <td>1100000</td>\n",
       "      <td>Hidden Brains</td>\n",
       "    </tr>\n",
       "    <tr>\n",
       "      <th>1</th>\n",
       "      <td>cseXXXX</td>\n",
       "      <td>7.2</td>\n",
       "      <td>3</td>\n",
       "      <td>3</td>\n",
       "      <td>1</td>\n",
       "      <td>1</td>\n",
       "      <td>1</td>\n",
       "      <td>0</td>\n",
       "      <td>java</td>\n",
       "      <td>ml</td>\n",
       "      <td>450000</td>\n",
       "      <td>Hyperlink Infosystem</td>\n",
       "    </tr>\n",
       "    <tr>\n",
       "      <th>2</th>\n",
       "      <td>cseXXXX</td>\n",
       "      <td>2.3</td>\n",
       "      <td>14</td>\n",
       "      <td>2</td>\n",
       "      <td>0</td>\n",
       "      <td>0</td>\n",
       "      <td>0</td>\n",
       "      <td>0</td>\n",
       "      <td>python</td>\n",
       "      <td>ds</td>\n",
       "      <td>0</td>\n",
       "      <td>0</td>\n",
       "    </tr>\n",
       "    <tr>\n",
       "      <th>3</th>\n",
       "      <td>cseXXXX</td>\n",
       "      <td>6.5</td>\n",
       "      <td>0</td>\n",
       "      <td>0</td>\n",
       "      <td>1</td>\n",
       "      <td>2</td>\n",
       "      <td>3</td>\n",
       "      <td>1</td>\n",
       "      <td>c</td>\n",
       "      <td>iot</td>\n",
       "      <td>350000</td>\n",
       "      <td>Hidden Brains</td>\n",
       "    </tr>\n",
       "    <tr>\n",
       "      <th>4</th>\n",
       "      <td>cseXXXX</td>\n",
       "      <td>9.5</td>\n",
       "      <td>0</td>\n",
       "      <td>0</td>\n",
       "      <td>1</td>\n",
       "      <td>1</td>\n",
       "      <td>1</td>\n",
       "      <td>1</td>\n",
       "      <td>c</td>\n",
       "      <td>networking</td>\n",
       "      <td>1050000</td>\n",
       "      <td>Hyperlink Infosystem</td>\n",
       "    </tr>\n",
       "  </tbody>\n",
       "</table>\n",
       "</div>"
      ],
      "text/plain": [
       "   Roll.no  CGPA  tot_arriers  clrd_arriers  Interns  Paid_intrn  Projects  \\\n",
       "0  cseXXXX   8.2            0             0        3           1         5   \n",
       "1  cseXXXX   7.2            3             3        1           1         1   \n",
       "2  cseXXXX   2.3           14             2        0           0         0   \n",
       "3  cseXXXX   6.5            0             0        1           2         3   \n",
       "4  cseXXXX   9.5            0             0        1           1         1   \n",
       "\n",
       "   Articels Programming Language Area_of_intrest_1  Annual Package  \\\n",
       "0         2                 java               iot         1100000   \n",
       "1         0                 java                ml          450000   \n",
       "2         0               python                ds               0   \n",
       "3         1                    c               iot          350000   \n",
       "4         1                    c        networking         1050000   \n",
       "\n",
       "              Company_1  \n",
       "0         Hidden Brains  \n",
       "1  Hyperlink Infosystem  \n",
       "2                     0  \n",
       "3         Hidden Brains  \n",
       "4  Hyperlink Infosystem  "
      ]
     },
     "execution_count": 45,
     "metadata": {},
     "output_type": "execute_result"
    }
   ],
   "source": [
    "h=dat.drop('Unnamed: 10',axis=1)\n",
    "h.head()"
   ]
  },
  {
   "cell_type": "code",
   "execution_count": 46,
   "metadata": {},
   "outputs": [
    {
     "data": {
      "text/plain": [
       "Roll.no                  object\n",
       "CGPA                    float64\n",
       "tot_arriers               int64\n",
       "clrd_arriers              int64\n",
       "Interns                   int64\n",
       "Paid_intrn                int64\n",
       "Projects                  int64\n",
       "Articels                  int64\n",
       "Programming Language     object\n",
       "Area_of_intrest_1        object\n",
       "Annual Package            int64\n",
       "Company_1                object\n",
       "dtype: object"
      ]
     },
     "execution_count": 46,
     "metadata": {},
     "output_type": "execute_result"
    }
   ],
   "source": [
    "h.dtypes"
   ]
  },
  {
   "cell_type": "code",
   "execution_count": 47,
   "metadata": {},
   "outputs": [
    {
     "data": {
      "text/html": [
       "<div>\n",
       "<style scoped>\n",
       "    .dataframe tbody tr th:only-of-type {\n",
       "        vertical-align: middle;\n",
       "    }\n",
       "\n",
       "    .dataframe tbody tr th {\n",
       "        vertical-align: top;\n",
       "    }\n",
       "\n",
       "    .dataframe thead th {\n",
       "        text-align: right;\n",
       "    }\n",
       "</style>\n",
       "<table border=\"1\" class=\"dataframe\">\n",
       "  <thead>\n",
       "    <tr style=\"text-align: right;\">\n",
       "      <th></th>\n",
       "      <th>CGPA</th>\n",
       "      <th>tot_arriers</th>\n",
       "      <th>clrd_arriers</th>\n",
       "      <th>Interns</th>\n",
       "      <th>Paid_intrn</th>\n",
       "      <th>Projects</th>\n",
       "      <th>Articels</th>\n",
       "      <th>Programming Language</th>\n",
       "      <th>Area_of_intrest_1</th>\n",
       "      <th>Annual Package</th>\n",
       "      <th>Company_1</th>\n",
       "    </tr>\n",
       "  </thead>\n",
       "  <tbody>\n",
       "    <tr>\n",
       "      <th>0</th>\n",
       "      <td>8.2</td>\n",
       "      <td>0</td>\n",
       "      <td>0</td>\n",
       "      <td>3</td>\n",
       "      <td>1</td>\n",
       "      <td>5</td>\n",
       "      <td>2</td>\n",
       "      <td>java</td>\n",
       "      <td>iot</td>\n",
       "      <td>1100000</td>\n",
       "      <td>Hidden Brains</td>\n",
       "    </tr>\n",
       "    <tr>\n",
       "      <th>1</th>\n",
       "      <td>7.2</td>\n",
       "      <td>3</td>\n",
       "      <td>3</td>\n",
       "      <td>1</td>\n",
       "      <td>1</td>\n",
       "      <td>1</td>\n",
       "      <td>0</td>\n",
       "      <td>java</td>\n",
       "      <td>ml</td>\n",
       "      <td>450000</td>\n",
       "      <td>Hyperlink Infosystem</td>\n",
       "    </tr>\n",
       "    <tr>\n",
       "      <th>2</th>\n",
       "      <td>2.3</td>\n",
       "      <td>14</td>\n",
       "      <td>2</td>\n",
       "      <td>0</td>\n",
       "      <td>0</td>\n",
       "      <td>0</td>\n",
       "      <td>0</td>\n",
       "      <td>python</td>\n",
       "      <td>ds</td>\n",
       "      <td>0</td>\n",
       "      <td>0</td>\n",
       "    </tr>\n",
       "    <tr>\n",
       "      <th>3</th>\n",
       "      <td>6.5</td>\n",
       "      <td>0</td>\n",
       "      <td>0</td>\n",
       "      <td>1</td>\n",
       "      <td>2</td>\n",
       "      <td>3</td>\n",
       "      <td>1</td>\n",
       "      <td>c</td>\n",
       "      <td>iot</td>\n",
       "      <td>350000</td>\n",
       "      <td>Hidden Brains</td>\n",
       "    </tr>\n",
       "    <tr>\n",
       "      <th>4</th>\n",
       "      <td>9.5</td>\n",
       "      <td>0</td>\n",
       "      <td>0</td>\n",
       "      <td>1</td>\n",
       "      <td>1</td>\n",
       "      <td>1</td>\n",
       "      <td>1</td>\n",
       "      <td>c</td>\n",
       "      <td>networking</td>\n",
       "      <td>1050000</td>\n",
       "      <td>Hyperlink Infosystem</td>\n",
       "    </tr>\n",
       "  </tbody>\n",
       "</table>\n",
       "</div>"
      ],
      "text/plain": [
       "   CGPA  tot_arriers  clrd_arriers  Interns  Paid_intrn  Projects  Articels  \\\n",
       "0   8.2            0             0        3           1         5         2   \n",
       "1   7.2            3             3        1           1         1         0   \n",
       "2   2.3           14             2        0           0         0         0   \n",
       "3   6.5            0             0        1           2         3         1   \n",
       "4   9.5            0             0        1           1         1         1   \n",
       "\n",
       "  Programming Language Area_of_intrest_1  Annual Package             Company_1  \n",
       "0                 java               iot         1100000         Hidden Brains  \n",
       "1                 java                ml          450000  Hyperlink Infosystem  \n",
       "2               python                ds               0                     0  \n",
       "3                    c               iot          350000         Hidden Brains  \n",
       "4                    c        networking         1050000  Hyperlink Infosystem  "
      ]
     },
     "execution_count": 47,
     "metadata": {},
     "output_type": "execute_result"
    }
   ],
   "source": [
    "k=h.drop('Roll.no',axis=1)\n",
    "k.head()"
   ]
  },
  {
   "cell_type": "code",
   "execution_count": null,
   "metadata": {},
   "outputs": [],
   "source": []
  },
  {
   "cell_type": "code",
   "execution_count": null,
   "metadata": {},
   "outputs": [],
   "source": []
  },
  {
   "cell_type": "code",
   "execution_count": 113,
   "metadata": {},
   "outputs": [],
   "source": [
    "import seaborn as sns"
   ]
  },
  {
   "cell_type": "code",
   "execution_count": 114,
   "metadata": {},
   "outputs": [
    {
     "data": {
      "text/plain": [
       "<matplotlib.axes._subplots.AxesSubplot at 0x25e27e487f0>"
      ]
     },
     "execution_count": 114,
     "metadata": {},
     "output_type": "execute_result"
    },
    {
     "data": {
      "image/png": "[encoded data removed]",
      "text/plain": [
       "<Figure size 432x288 with 1 Axes>"
      ]
     },
     "metadata": {
      "needs_background": "light"
     },
     "output_type": "display_data"
    }
   ],
   "source": [
    "sns.countplot(x='Programming Language',data=dat)"
   ]
  },
  {
   "cell_type": "code",
   "execution_count": 115,
   "metadata": {},
   "outputs": [
    {
     "data": {
      "text/plain": [
       "<seaborn.axisgrid.FacetGrid at 0x25e27e6a438>"
      ]
     },
     "execution_count": 115,
     "metadata": {},
     "output_type": "execute_result"
    },
    {
     "data": {
      "image/png": "[encoded data removed]",
      "text/plain": [
       "<Figure size 360x360 with 1 Axes>"
      ]
     },
     "metadata": {
      "needs_background": "light"
     },
     "output_type": "display_data"
    }
   ],
   "source": [
    "sns.catplot(x=\"Annual Package\",y=\"Area_of_intrest_1\",data=dat)"
   ]
  },
  {
   "cell_type": "code",
   "execution_count": null,
   "metadata": {},
   "outputs": [],
   "source": []
  },
  {
   "cell_type": "code",
   "execution_count": 48,
   "metadata": {},
   "outputs": [],
   "source": [
    "#y1=dat.iloc[ : ,11:12]\n",
    "#y1.head()\n"
   ]
  },
  {
   "cell_type": "code",
   "execution_count": 49,
   "metadata": {},
   "outputs": [],
   "source": [
    "#y2=dat.iloc[ : ,12:13]\n",
    "#y2.head()"
   ]
  },
  {
   "cell_type": "code",
   "execution_count": 50,
   "metadata": {},
   "outputs": [],
   "source": [
    "from sklearn.preprocessing import LabelEncoder\n",
    "le=LabelEncoder()\n",
    "#k['Company_1']=k['Company_1'].astype('category')"
   ]
  },
  {
   "cell_type": "code",
   "execution_count": 51,
   "metadata": {},
   "outputs": [],
   "source": [
    "categorical_feature_mask = k.dtypes==object\n",
    "categorical_cols = k.columns[categorical_feature_mask].tolist()"
   ]
  },
  {
   "cell_type": "code",
   "execution_count": 52,
   "metadata": {},
   "outputs": [
    {
     "data": {
      "text/html": [
       "<div>\n",
       "<style scoped>\n",
       "    .dataframe tbody tr th:only-of-type {\n",
       "        vertical-align: middle;\n",
       "    }\n",
       "\n",
       "    .dataframe tbody tr th {\n",
       "        vertical-align: top;\n",
       "    }\n",
       "\n",
       "    .dataframe thead th {\n",
       "        text-align: right;\n",
       "    }\n",
       "</style>\n",
       "<table border=\"1\" class=\"dataframe\">\n",
       "  <thead>\n",
       "    <tr style=\"text-align: right;\">\n",
       "      <th></th>\n",
       "      <th>Programming Language</th>\n",
       "      <th>Area_of_intrest_1</th>\n",
       "      <th>Company_1</th>\n",
       "    </tr>\n",
       "  </thead>\n",
       "  <tbody>\n",
       "    <tr>\n",
       "      <th>0</th>\n",
       "      <td>1</td>\n",
       "      <td>1</td>\n",
       "      <td>1</td>\n",
       "    </tr>\n",
       "    <tr>\n",
       "      <th>1</th>\n",
       "      <td>1</td>\n",
       "      <td>3</td>\n",
       "      <td>3</td>\n",
       "    </tr>\n",
       "    <tr>\n",
       "      <th>2</th>\n",
       "      <td>2</td>\n",
       "      <td>0</td>\n",
       "      <td>0</td>\n",
       "    </tr>\n",
       "    <tr>\n",
       "      <th>3</th>\n",
       "      <td>0</td>\n",
       "      <td>1</td>\n",
       "      <td>1</td>\n",
       "    </tr>\n",
       "    <tr>\n",
       "      <th>4</th>\n",
       "      <td>0</td>\n",
       "      <td>4</td>\n",
       "      <td>3</td>\n",
       "    </tr>\n",
       "    <tr>\n",
       "      <th>5</th>\n",
       "      <td>1</td>\n",
       "      <td>1</td>\n",
       "      <td>1</td>\n",
       "    </tr>\n",
       "    <tr>\n",
       "      <th>6</th>\n",
       "      <td>1</td>\n",
       "      <td>1</td>\n",
       "      <td>5</td>\n",
       "    </tr>\n",
       "    <tr>\n",
       "      <th>7</th>\n",
       "      <td>2</td>\n",
       "      <td>3</td>\n",
       "      <td>5</td>\n",
       "    </tr>\n",
       "    <tr>\n",
       "      <th>8</th>\n",
       "      <td>2</td>\n",
       "      <td>3</td>\n",
       "      <td>0</td>\n",
       "    </tr>\n",
       "    <tr>\n",
       "      <th>9</th>\n",
       "      <td>2</td>\n",
       "      <td>3</td>\n",
       "      <td>1</td>\n",
       "    </tr>\n",
       "  </tbody>\n",
       "</table>\n",
       "</div>"
      ],
      "text/plain": [
       "   Programming Language  Area_of_intrest_1  Company_1\n",
       "0                     1                  1          1\n",
       "1                     1                  3          3\n",
       "2                     2                  0          0\n",
       "3                     0                  1          1\n",
       "4                     0                  4          3\n",
       "5                     1                  1          1\n",
       "6                     1                  1          5\n",
       "7                     2                  3          5\n",
       "8                     2                  3          0\n",
       "9                     2                  3          1"
      ]
     },
     "execution_count": 52,
     "metadata": {},
     "output_type": "execute_result"
    }
   ],
   "source": [
    "k[categorical_cols] = k[categorical_cols].apply(lambda col: le.fit_transform(col))\n",
    "k[categorical_cols].head(10)"
   ]
  },
  {
   "cell_type": "code",
   "execution_count": 53,
   "metadata": {},
   "outputs": [
    {
     "data": {
      "text/html": [
       "<div>\n",
       "<style scoped>\n",
       "    .dataframe tbody tr th:only-of-type {\n",
       "        vertical-align: middle;\n",
       "    }\n",
       "\n",
       "    .dataframe tbody tr th {\n",
       "        vertical-align: top;\n",
       "    }\n",
       "\n",
       "    .dataframe thead th {\n",
       "        text-align: right;\n",
       "    }\n",
       "</style>\n",
       "<table border=\"1\" class=\"dataframe\">\n",
       "  <thead>\n",
       "    <tr style=\"text-align: right;\">\n",
       "      <th></th>\n",
       "      <th>CGPA</th>\n",
       "      <th>tot_arriers</th>\n",
       "      <th>clrd_arriers</th>\n",
       "      <th>Interns</th>\n",
       "      <th>Paid_intrn</th>\n",
       "      <th>Projects</th>\n",
       "      <th>Articels</th>\n",
       "      <th>Programming Language</th>\n",
       "      <th>Area_of_intrest_1</th>\n",
       "      <th>Annual Package</th>\n",
       "      <th>Company_1</th>\n",
       "    </tr>\n",
       "  </thead>\n",
       "  <tbody>\n",
       "    <tr>\n",
       "      <th>0</th>\n",
       "      <td>8.2</td>\n",
       "      <td>0</td>\n",
       "      <td>0</td>\n",
       "      <td>3</td>\n",
       "      <td>1</td>\n",
       "      <td>5</td>\n",
       "      <td>2</td>\n",
       "      <td>1</td>\n",
       "      <td>1</td>\n",
       "      <td>1100000</td>\n",
       "      <td>1</td>\n",
       "    </tr>\n",
       "    <tr>\n",
       "      <th>1</th>\n",
       "      <td>7.2</td>\n",
       "      <td>3</td>\n",
       "      <td>3</td>\n",
       "      <td>1</td>\n",
       "      <td>1</td>\n",
       "      <td>1</td>\n",
       "      <td>0</td>\n",
       "      <td>1</td>\n",
       "      <td>3</td>\n",
       "      <td>450000</td>\n",
       "      <td>3</td>\n",
       "    </tr>\n",
       "    <tr>\n",
       "      <th>2</th>\n",
       "      <td>2.3</td>\n",
       "      <td>14</td>\n",
       "      <td>2</td>\n",
       "      <td>0</td>\n",
       "      <td>0</td>\n",
       "      <td>0</td>\n",
       "      <td>0</td>\n",
       "      <td>2</td>\n",
       "      <td>0</td>\n",
       "      <td>0</td>\n",
       "      <td>0</td>\n",
       "    </tr>\n",
       "    <tr>\n",
       "      <th>3</th>\n",
       "      <td>6.5</td>\n",
       "      <td>0</td>\n",
       "      <td>0</td>\n",
       "      <td>1</td>\n",
       "      <td>2</td>\n",
       "      <td>3</td>\n",
       "      <td>1</td>\n",
       "      <td>0</td>\n",
       "      <td>1</td>\n",
       "      <td>350000</td>\n",
       "      <td>1</td>\n",
       "    </tr>\n",
       "    <tr>\n",
       "      <th>4</th>\n",
       "      <td>9.5</td>\n",
       "      <td>0</td>\n",
       "      <td>0</td>\n",
       "      <td>1</td>\n",
       "      <td>1</td>\n",
       "      <td>1</td>\n",
       "      <td>1</td>\n",
       "      <td>0</td>\n",
       "      <td>4</td>\n",
       "      <td>1050000</td>\n",
       "      <td>3</td>\n",
       "    </tr>\n",
       "  </tbody>\n",
       "</table>\n",
       "</div>"
      ],
      "text/plain": [
       "   CGPA  tot_arriers  clrd_arriers  Interns  Paid_intrn  Projects  Articels  \\\n",
       "0   8.2            0             0        3           1         5         2   \n",
       "1   7.2            3             3        1           1         1         0   \n",
       "2   2.3           14             2        0           0         0         0   \n",
       "3   6.5            0             0        1           2         3         1   \n",
       "4   9.5            0             0        1           1         1         1   \n",
       "\n",
       "   Programming Language  Area_of_intrest_1  Annual Package  Company_1  \n",
       "0                     1                  1         1100000          1  \n",
       "1                     1                  3          450000          3  \n",
       "2                     2                  0               0          0  \n",
       "3                     0                  1          350000          1  \n",
       "4                     0                  4         1050000          3  "
      ]
     },
     "execution_count": 53,
     "metadata": {},
     "output_type": "execute_result"
    }
   ],
   "source": [
    "k.head(5)"
   ]
  },
  {
   "cell_type": "code",
   "execution_count": 54,
   "metadata": {},
   "outputs": [
    {
     "data": {
      "text/plain": [
       "CGPA                    0\n",
       "tot_arriers             0\n",
       "clrd_arriers            0\n",
       "Interns                 0\n",
       "Paid_intrn              0\n",
       "Projects                0\n",
       "Articels                0\n",
       "Programming Language    0\n",
       "Area_of_intrest_1       0\n",
       "Annual Package          0\n",
       "Company_1               0\n",
       "dtype: int64"
      ]
     },
     "execution_count": 54,
     "metadata": {},
     "output_type": "execute_result"
    }
   ],
   "source": [
    "k.isnull().sum()"
   ]
  },
  {
   "cell_type": "code",
   "execution_count": 55,
   "metadata": {},
   "outputs": [
    {
     "data": {
      "text/html": [
       "<div>\n",
       "<style scoped>\n",
       "    .dataframe tbody tr th:only-of-type {\n",
       "        vertical-align: middle;\n",
       "    }\n",
       "\n",
       "    .dataframe tbody tr th {\n",
       "        vertical-align: top;\n",
       "    }\n",
       "\n",
       "    .dataframe thead th {\n",
       "        text-align: right;\n",
       "    }\n",
       "</style>\n",
       "<table border=\"1\" class=\"dataframe\">\n",
       "  <thead>\n",
       "    <tr style=\"text-align: right;\">\n",
       "      <th></th>\n",
       "      <th>CGPA</th>\n",
       "      <th>tot_arriers</th>\n",
       "      <th>clrd_arriers</th>\n",
       "      <th>Interns</th>\n",
       "      <th>Paid_intrn</th>\n",
       "      <th>Projects</th>\n",
       "      <th>Articels</th>\n",
       "      <th>Programming Language</th>\n",
       "      <th>Area_of_intrest_1</th>\n",
       "    </tr>\n",
       "  </thead>\n",
       "  <tbody>\n",
       "    <tr>\n",
       "      <th>0</th>\n",
       "      <td>8.2</td>\n",
       "      <td>0</td>\n",
       "      <td>0</td>\n",
       "      <td>3</td>\n",
       "      <td>1</td>\n",
       "      <td>5</td>\n",
       "      <td>2</td>\n",
       "      <td>1</td>\n",
       "      <td>1</td>\n",
       "    </tr>\n",
       "    <tr>\n",
       "      <th>1</th>\n",
       "      <td>7.2</td>\n",
       "      <td>3</td>\n",
       "      <td>3</td>\n",
       "      <td>1</td>\n",
       "      <td>1</td>\n",
       "      <td>1</td>\n",
       "      <td>0</td>\n",
       "      <td>1</td>\n",
       "      <td>3</td>\n",
       "    </tr>\n",
       "    <tr>\n",
       "      <th>2</th>\n",
       "      <td>2.3</td>\n",
       "      <td>14</td>\n",
       "      <td>2</td>\n",
       "      <td>0</td>\n",
       "      <td>0</td>\n",
       "      <td>0</td>\n",
       "      <td>0</td>\n",
       "      <td>2</td>\n",
       "      <td>0</td>\n",
       "    </tr>\n",
       "    <tr>\n",
       "      <th>3</th>\n",
       "      <td>6.5</td>\n",
       "      <td>0</td>\n",
       "      <td>0</td>\n",
       "      <td>1</td>\n",
       "      <td>2</td>\n",
       "      <td>3</td>\n",
       "      <td>1</td>\n",
       "      <td>0</td>\n",
       "      <td>1</td>\n",
       "    </tr>\n",
       "    <tr>\n",
       "      <th>4</th>\n",
       "      <td>9.5</td>\n",
       "      <td>0</td>\n",
       "      <td>0</td>\n",
       "      <td>1</td>\n",
       "      <td>1</td>\n",
       "      <td>1</td>\n",
       "      <td>1</td>\n",
       "      <td>0</td>\n",
       "      <td>4</td>\n",
       "    </tr>\n",
       "  </tbody>\n",
       "</table>\n",
       "</div>"
      ],
      "text/plain": [
       "   CGPA  tot_arriers  clrd_arriers  Interns  Paid_intrn  Projects  Articels  \\\n",
       "0   8.2            0             0        3           1         5         2   \n",
       "1   7.2            3             3        1           1         1         0   \n",
       "2   2.3           14             2        0           0         0         0   \n",
       "3   6.5            0             0        1           2         3         1   \n",
       "4   9.5            0             0        1           1         1         1   \n",
       "\n",
       "   Programming Language  Area_of_intrest_1  \n",
       "0                     1                  1  \n",
       "1                     1                  3  \n",
       "2                     2                  0  \n",
       "3                     0                  1  \n",
       "4                     0                  4  "
      ]
     },
     "execution_count": 55,
     "metadata": {},
     "output_type": "execute_result"
    }
   ],
   "source": [
    "x1=k.iloc[ : , :9]\n",
    "x1.head()"
   ]
  },
  {
   "cell_type": "code",
   "execution_count": 56,
   "metadata": {},
   "outputs": [
    {
     "data": {
      "text/html": [
       "<div>\n",
       "<style scoped>\n",
       "    .dataframe tbody tr th:only-of-type {\n",
       "        vertical-align: middle;\n",
       "    }\n",
       "\n",
       "    .dataframe tbody tr th {\n",
       "        vertical-align: top;\n",
       "    }\n",
       "\n",
       "    .dataframe thead th {\n",
       "        text-align: right;\n",
       "    }\n",
       "</style>\n",
       "<table border=\"1\" class=\"dataframe\">\n",
       "  <thead>\n",
       "    <tr style=\"text-align: right;\">\n",
       "      <th></th>\n",
       "      <th>Annual Package</th>\n",
       "    </tr>\n",
       "  </thead>\n",
       "  <tbody>\n",
       "    <tr>\n",
       "      <th>0</th>\n",
       "      <td>1100000</td>\n",
       "    </tr>\n",
       "    <tr>\n",
       "      <th>1</th>\n",
       "      <td>450000</td>\n",
       "    </tr>\n",
       "    <tr>\n",
       "      <th>2</th>\n",
       "      <td>0</td>\n",
       "    </tr>\n",
       "    <tr>\n",
       "      <th>3</th>\n",
       "      <td>350000</td>\n",
       "    </tr>\n",
       "    <tr>\n",
       "      <th>4</th>\n",
       "      <td>1050000</td>\n",
       "    </tr>\n",
       "  </tbody>\n",
       "</table>\n",
       "</div>"
      ],
      "text/plain": [
       "   Annual Package\n",
       "0         1100000\n",
       "1          450000\n",
       "2               0\n",
       "3          350000\n",
       "4         1050000"
      ]
     },
     "execution_count": 56,
     "metadata": {},
     "output_type": "execute_result"
    }
   ],
   "source": [
    "y1=k.iloc[ : ,9:10]\n",
    "y1.head()\n"
   ]
  },
  {
   "cell_type": "code",
   "execution_count": 57,
   "metadata": {},
   "outputs": [
    {
     "data": {
      "text/html": [
       "<div>\n",
       "<style scoped>\n",
       "    .dataframe tbody tr th:only-of-type {\n",
       "        vertical-align: middle;\n",
       "    }\n",
       "\n",
       "    .dataframe tbody tr th {\n",
       "        vertical-align: top;\n",
       "    }\n",
       "\n",
       "    .dataframe thead th {\n",
       "        text-align: right;\n",
       "    }\n",
       "</style>\n",
       "<table border=\"1\" class=\"dataframe\">\n",
       "  <thead>\n",
       "    <tr style=\"text-align: right;\">\n",
       "      <th></th>\n",
       "      <th>Company_1</th>\n",
       "    </tr>\n",
       "  </thead>\n",
       "  <tbody>\n",
       "    <tr>\n",
       "      <th>0</th>\n",
       "      <td>1</td>\n",
       "    </tr>\n",
       "    <tr>\n",
       "      <th>1</th>\n",
       "      <td>3</td>\n",
       "    </tr>\n",
       "    <tr>\n",
       "      <th>2</th>\n",
       "      <td>0</td>\n",
       "    </tr>\n",
       "    <tr>\n",
       "      <th>3</th>\n",
       "      <td>1</td>\n",
       "    </tr>\n",
       "    <tr>\n",
       "      <th>4</th>\n",
       "      <td>3</td>\n",
       "    </tr>\n",
       "  </tbody>\n",
       "</table>\n",
       "</div>"
      ],
      "text/plain": [
       "   Company_1\n",
       "0          1\n",
       "1          3\n",
       "2          0\n",
       "3          1\n",
       "4          3"
      ]
     },
     "execution_count": 57,
     "metadata": {},
     "output_type": "execute_result"
    }
   ],
   "source": [
    "y2=k.iloc[ : ,10:11]\n",
    "y2.head()"
   ]
  },
  {
   "cell_type": "code",
   "execution_count": 58,
   "metadata": {},
   "outputs": [
    {
     "data": {
      "text/html": [
       "<div>\n",
       "<style scoped>\n",
       "    .dataframe tbody tr th:only-of-type {\n",
       "        vertical-align: middle;\n",
       "    }\n",
       "\n",
       "    .dataframe tbody tr th {\n",
       "        vertical-align: top;\n",
       "    }\n",
       "\n",
       "    .dataframe thead th {\n",
       "        text-align: right;\n",
       "    }\n",
       "</style>\n",
       "<table border=\"1\" class=\"dataframe\">\n",
       "  <thead>\n",
       "    <tr style=\"text-align: right;\">\n",
       "      <th></th>\n",
       "      <th>CGPA</th>\n",
       "      <th>tot_arriers</th>\n",
       "      <th>clrd_arriers</th>\n",
       "      <th>Interns</th>\n",
       "      <th>Paid_intrn</th>\n",
       "      <th>Projects</th>\n",
       "      <th>Articels</th>\n",
       "    </tr>\n",
       "  </thead>\n",
       "  <tbody>\n",
       "    <tr>\n",
       "      <th>0</th>\n",
       "      <td>8.2</td>\n",
       "      <td>0</td>\n",
       "      <td>0</td>\n",
       "      <td>3</td>\n",
       "      <td>1</td>\n",
       "      <td>5</td>\n",
       "      <td>2</td>\n",
       "    </tr>\n",
       "    <tr>\n",
       "      <th>1</th>\n",
       "      <td>7.2</td>\n",
       "      <td>3</td>\n",
       "      <td>3</td>\n",
       "      <td>1</td>\n",
       "      <td>1</td>\n",
       "      <td>1</td>\n",
       "      <td>0</td>\n",
       "    </tr>\n",
       "    <tr>\n",
       "      <th>2</th>\n",
       "      <td>2.3</td>\n",
       "      <td>14</td>\n",
       "      <td>2</td>\n",
       "      <td>0</td>\n",
       "      <td>0</td>\n",
       "      <td>0</td>\n",
       "      <td>0</td>\n",
       "    </tr>\n",
       "    <tr>\n",
       "      <th>3</th>\n",
       "      <td>6.5</td>\n",
       "      <td>0</td>\n",
       "      <td>0</td>\n",
       "      <td>1</td>\n",
       "      <td>2</td>\n",
       "      <td>3</td>\n",
       "      <td>1</td>\n",
       "    </tr>\n",
       "    <tr>\n",
       "      <th>4</th>\n",
       "      <td>9.5</td>\n",
       "      <td>0</td>\n",
       "      <td>0</td>\n",
       "      <td>1</td>\n",
       "      <td>1</td>\n",
       "      <td>1</td>\n",
       "      <td>1</td>\n",
       "    </tr>\n",
       "  </tbody>\n",
       "</table>\n",
       "</div>"
      ],
      "text/plain": [
       "   CGPA  tot_arriers  clrd_arriers  Interns  Paid_intrn  Projects  Articels\n",
       "0   8.2            0             0        3           1         5         2\n",
       "1   7.2            3             3        1           1         1         0\n",
       "2   2.3           14             2        0           0         0         0\n",
       "3   6.5            0             0        1           2         3         1\n",
       "4   9.5            0             0        1           1         1         1"
      ]
     },
     "execution_count": 58,
     "metadata": {},
     "output_type": "execute_result"
    }
   ],
   "source": [
    "x2=k.iloc[ : , :7]\n",
    "x2.head()"
   ]
  },
  {
   "cell_type": "code",
   "execution_count": 65,
   "metadata": {},
   "outputs": [],
   "source": [
    "from sklearn.model_selection import train_test_split\n",
    "x1_train,x1_test,y1_train,y1_test=train_test_split(x1,y1,test_size=0.2,random_state=6)"
   ]
  },
  {
   "cell_type": "code",
   "execution_count": 66,
   "metadata": {},
   "outputs": [],
   "source": [
    "from sklearn.model_selection import train_test_split\n",
    "x2_train,x2_test,y2_train,y2_test=train_test_split(x2,y2,test_size=0.2,random_state=6)\n"
   ]
  },
  {
   "cell_type": "code",
   "execution_count": 67,
   "metadata": {},
   "outputs": [
    {
     "name": "stdout",
     "output_type": "stream",
     "text": [
      "r2_score for linear regression model is   0.8947447877663751\n",
      "Root mean squared error for linear regression model is  111620.15710477288\n"
     ]
    }
   ],
   "source": [
    "from sklearn.linear_model import LinearRegression\n",
    "from sklearn.metrics import r2_score,mean_squared_error\n",
    "\n",
    "#Create an object to regressor\n",
    "lr=LinearRegression()\n",
    "#fitting the object to training data\n",
    "lr.fit(x1_train,y1_train)\n",
    "#predicting using testing data\n",
    "y1_predict=lr.predict(x1_test)\n",
    "#Calculating the r2_score\n",
    "r=r2_score(y1_test,y1_predict)\n",
    "m=mean_squared_error(y1_test,y1_predict)\n",
    "print(\"r2_score for linear regression model is  \",r)\n",
    "print(\"Root mean squared error for linear regression model is \",np.sqrt(m))"
   ]
  },
  {
   "cell_type": "code",
   "execution_count": 81,
   "metadata": {},
   "outputs": [
    {
     "name": "stdout",
     "output_type": "stream",
     "text": [
      "    Annual Package\n",
      "94          650000\n",
      "23          460000\n",
      "67               0\n",
      "17          400000\n",
      "58          280000\n",
      "0          1100000\n",
      "30         1250000\n",
      "60          150000\n",
      "65          380000\n",
      "44          300000\n",
      "74         1000000\n",
      "38          660000\n",
      "48          350000\n",
      "20          500000\n",
      "47          180000\n",
      "46               0\n",
      "39          260000\n",
      "82               0\n",
      "54          230000\n",
      "92          450000 \n",
      "  [[ 667261.22914353]\n",
      " [ 472778.06202457]\n",
      " [ 102875.31218575]\n",
      " [ 413347.02190369]\n",
      " [ 307389.78423257]\n",
      " [ 839287.24307314]\n",
      " [1125441.97921116]\n",
      " [   9679.45744106]\n",
      " [ 546469.16005511]\n",
      " [ 356795.37779941]\n",
      " [1010611.71696074]\n",
      " [ 697527.60045308]\n",
      " [ 499783.85556693]\n",
      " [ 521804.51077869]\n",
      " [ 238919.50458223]\n",
      " [ -58358.25731065]\n",
      " [ 200267.55313727]\n",
      " [ -62384.90832196]\n",
      " [ 464105.81115295]\n",
      " [ 547574.37138775]]                        Company_1\n",
      "94          1\n",
      "23          5\n",
      "67          0\n",
      "17          5\n",
      "58          5\n",
      "0           1\n",
      "30          1\n",
      "60          5\n",
      "65          5\n",
      "44          5\n",
      "74          5\n",
      "38          1\n",
      "48          5\n",
      "20          1\n",
      "47          3\n",
      "46          0\n",
      "39          5\n",
      "82          0\n",
      "54          3\n",
      "92          5         [[3.22891304]\n",
      " [2.70524331]\n",
      " [1.89215098]\n",
      " [2.02864202]\n",
      " [2.9261635 ]\n",
      " [2.6024196 ]\n",
      " [3.77235307]\n",
      " [2.12567391]\n",
      " [3.85860283]\n",
      " [1.85781663]\n",
      " [3.60104132]\n",
      " [2.19706326]\n",
      " [3.36810885]\n",
      " [2.63386084]\n",
      " [3.42160884]\n",
      " [2.8041414 ]\n",
      " [2.57363653]\n",
      " [2.35720096]\n",
      " [2.71656392]\n",
      " [3.2933497 ]]\n"
     ]
    }
   ],
   "source": [
    "print(y1_test,\"\\n \",y1_predict,\"                  \",y2_test,\"       \",y2_predict)"
   ]
  },
  {
   "cell_type": "code",
   "execution_count": null,
   "metadata": {},
   "outputs": [],
   "source": []
  },
  {
   "cell_type": "code",
   "execution_count": null,
   "metadata": {},
   "outputs": [],
   "source": []
  },
  {
   "cell_type": "code",
   "execution_count": null,
   "metadata": {},
   "outputs": [],
   "source": []
  },
  {
   "cell_type": "code",
   "execution_count": 69,
   "metadata": {},
   "outputs": [
    {
     "name": "stdout",
     "output_type": "stream",
     "text": [
      "r2_score for k-neighbors  regression model is   0.8923075948297711\n",
      "Root mean squared error for k-neighbors regression model is  112905.04860279721\n"
     ]
    }
   ],
   "source": [
    "from sklearn.metrics import accuracy_score \n",
    "from sklearn.metrics import r2_score,mean_squared_error\n",
    "from sklearn.neighbors import KNeighborsRegressor\n",
    "kn=KNeighborsRegressor(n_neighbors=10)\n",
    "kn.fit(x1_train,y1_train)\n",
    "y1_pred2=kn.predict(x1_test)\n",
    "r=r2_score(y1_test,y1_pred2)\n",
    "m=mean_squared_error(y1_test,y1_pred2)\n",
    "print(\"r2_score for k-neighbors  regression model is  \",r)\n",
    "print(\"Root mean squared error for k-neighbors regression model is \",np.sqrt(m))"
   ]
  },
  {
   "cell_type": "code",
   "execution_count": 101,
   "metadata": {},
   "outputs": [
    {
     "name": "stdout",
     "output_type": "stream",
     "text": [
      "    Annual Package\n",
      "94          650000\n",
      "23          460000\n",
      "67               0\n",
      "17          400000\n",
      "58          280000\n",
      "0          1100000\n",
      "30         1250000\n",
      "60          150000\n",
      "65          380000\n",
      "44          300000\n",
      "74         1000000\n",
      "38          660000\n",
      "48          350000\n",
      "20          500000\n",
      "47          180000\n",
      "46               0\n",
      "39          260000\n",
      "82               0\n",
      "54          230000\n",
      "92          450000     [[ 543000.]\n",
      " [ 512000.]\n",
      " [  89000.]\n",
      " [ 439000.]\n",
      " [ 433000.]\n",
      " [ 937000.]\n",
      " [1061000.]\n",
      " [ 155000.]\n",
      " [ 608000.]\n",
      " [ 265000.]\n",
      " [ 843000.]\n",
      " [ 670000.]\n",
      " [ 510000.]\n",
      " [ 504000.]\n",
      " [ 256000.]\n",
      " [  97000.]\n",
      " [ 176000.]\n",
      " [ 122000.]\n",
      " [ 292000.]\n",
      " [ 483000.]]\n"
     ]
    }
   ],
   "source": [
    "print(y1_test,\"   \",y1_pred2)"
   ]
  },
  {
   "cell_type": "code",
   "execution_count": null,
   "metadata": {},
   "outputs": [],
   "source": []
  },
  {
   "cell_type": "code",
   "execution_count": null,
   "metadata": {},
   "outputs": [],
   "source": []
  },
  {
   "cell_type": "code",
   "execution_count": null,
   "metadata": {},
   "outputs": [],
   "source": []
  },
  {
   "cell_type": "code",
   "execution_count": null,
   "metadata": {},
   "outputs": [],
   "source": []
  },
  {
   "cell_type": "code",
   "execution_count": null,
   "metadata": {},
   "outputs": [],
   "source": []
  },
  {
   "cell_type": "code",
   "execution_count": 88,
   "metadata": {},
   "outputs": [
    {
     "name": "stdout",
     "output_type": "stream",
     "text": [
      "r2_score for decision tree regression model is   0.757328715046042\n",
      "Root mean squared error for decision tree regression model is  169484.51256678294\n"
     ]
    }
   ],
   "source": [
    "from sklearn.tree import DecisionTreeRegressor\n",
    "dt=DecisionTreeRegressor(random_state=13)\n",
    "dt.fit(x1_train,y1_train)\n",
    "y1_pred1=dt.predict(x1_test)\n",
    "r=r2_score(y1_test,y1_pred1)\n",
    "m=mean_squared_error(y1_test,y1_pred1)\n",
    "print(\"r2_score for decision tree regression model is  \",r)\n",
    "print(\"Root mean squared error for decision tree regression model is \",np.sqrt(m))"
   ]
  },
  {
   "cell_type": "code",
   "execution_count": 100,
   "metadata": {},
   "outputs": [
    {
     "name": "stdout",
     "output_type": "stream",
     "text": [
      "    Annual Package\n",
      "94          650000\n",
      "23          460000\n",
      "67               0\n",
      "17          400000\n",
      "58          280000\n",
      "0          1100000\n",
      "30         1250000\n",
      "60          150000\n",
      "65          380000\n",
      "44          300000\n",
      "74         1000000\n",
      "38          660000\n",
      "48          350000\n",
      "20          500000\n",
      "47          180000\n",
      "46               0\n",
      "39          260000\n",
      "82               0\n",
      "54          230000\n",
      "92          450000     [ 650000.  550000.       0.  420000.  300000.  650000. 1080000.       0.\n",
      "  750000.  330000.  900000.  750000.  360000.  450000.  300000.       0.\n",
      "  280000.       0.  450000.  750000.]\n"
     ]
    }
   ],
   "source": [
    "print(y1_test,\"   \",y1_pred1)"
   ]
  },
  {
   "cell_type": "code",
   "execution_count": null,
   "metadata": {},
   "outputs": [],
   "source": []
  },
  {
   "cell_type": "code",
   "execution_count": null,
   "metadata": {},
   "outputs": [],
   "source": []
  },
  {
   "cell_type": "code",
   "execution_count": null,
   "metadata": {},
   "outputs": [],
   "source": []
  },
  {
   "cell_type": "code",
   "execution_count": 73,
   "metadata": {},
   "outputs": [
    {
     "name": "stdout",
     "output_type": "stream",
     "text": [
      "[19:20:46] WARNING: C:/Jenkins/workspace/xgboost-win64_release_0.90/src/objective/regression_obj.cu:152: reg:linear is now deprecated in favor of reg:squarederror.\n",
      "r2_score for xgboost regression model is   0.8576873195162942\n",
      "Root mean squared error for xgboost regression model is  129790.41562787391\n"
     ]
    }
   ],
   "source": [
    "from xgboost import XGBRegressor\n",
    "model=XGBRegressor()\n",
    "model.fit(x1_train,y1_train)\n",
    "y1_p=model.predict(x1_test)\n",
    "r1=r2_score(y1_test,y1_p)\n",
    "m1=mean_squared_error(y1_test,y1_p)\n",
    "print(\"r2_score for xgboost regression model is  \",r1)\n",
    "print(\"Root mean squared error for xgboost regression model is \",np.sqrt(m1))"
   ]
  },
  {
   "cell_type": "code",
   "execution_count": 102,
   "metadata": {},
   "outputs": [
    {
     "name": "stdout",
     "output_type": "stream",
     "text": [
      "    Annual Package\n",
      "94          650000\n",
      "23          460000\n",
      "67               0\n",
      "17          400000\n",
      "58          280000\n",
      "0          1100000\n",
      "30         1250000\n",
      "60          150000\n",
      "65          380000\n",
      "44          300000\n",
      "74         1000000\n",
      "38          660000\n",
      "48          350000\n",
      "20          500000\n",
      "47          180000\n",
      "46               0\n",
      "39          260000\n",
      "82               0\n",
      "54          230000\n",
      "92          450000      [ 600601.6     542525.       -7841.1753  383409.7     356526.2\n",
      "  669648.4    1166938.5      -5510.1157  581055.1     315767.28\n",
      "  990835.25    654395.94    422065.47    530871.44    307623.5\n",
      "    8324.297   219358.42     -4061.1987  343827.44    615126.44  ]\n"
     ]
    }
   ],
   "source": [
    "print(y1_test,\"    \",y1_p)"
   ]
  },
  {
   "cell_type": "code",
   "execution_count": null,
   "metadata": {},
   "outputs": [],
   "source": []
  },
  {
   "cell_type": "code",
   "execution_count": null,
   "metadata": {},
   "outputs": [],
   "source": []
  },
  {
   "cell_type": "code",
   "execution_count": null,
   "metadata": {},
   "outputs": [],
   "source": []
  },
  {
   "cell_type": "code",
   "execution_count": null,
   "metadata": {},
   "outputs": [],
   "source": []
  },
  {
   "cell_type": "code",
   "execution_count": 91,
   "metadata": {},
   "outputs": [
    {
     "name": "stdout",
     "output_type": "stream",
     "text": [
      "Score = 0.8199207283611504\n",
      "Root mean squared error for xgboost regression model is  169484.51256678294\n"
     ]
    },
    {
     "name": "stderr",
     "output_type": "stream",
     "text": [
      "C:\\Users\\hp\\Anaconda3\\lib\\site-packages\\sklearn\\utils\\validation.py:761: DataConversionWarning: A column-vector y was passed when a 1d array was expected. Please change the shape of y to (n_samples, ), for example using ravel().\n",
      "  y = column_or_1d(y, warn=True)\n"
     ]
    }
   ],
   "source": [
    "from sklearn import ensemble\n",
    "clf = ensemble.GradientBoostingRegressor(n_estimators = 400, max_depth = 5, min_samples_split = 2,\n",
    "          learning_rate = 0.1, loss = 'ls')\n",
    "clf.fit(x1_train, y1_train)\n",
    "\n",
    "print(\"Score =\",clf.score(x1_test,y1_test))\n",
    "pred1=clf.predict(x1_test)\n",
    "m1=mean_squared_error(y1_test,pred1)\n",
    "print(\"Root mean squared error for xgboost regression model is \",np.sqrt(m))"
   ]
  },
  {
   "cell_type": "code",
   "execution_count": 103,
   "metadata": {},
   "outputs": [
    {
     "name": "stdout",
     "output_type": "stream",
     "text": [
      "    Annual Package\n",
      "94          650000\n",
      "23          460000\n",
      "67               0\n",
      "17          400000\n",
      "58          280000\n",
      "0          1100000\n",
      "30         1250000\n",
      "60          150000\n",
      "65          380000\n",
      "44          300000\n",
      "74         1000000\n",
      "38          660000\n",
      "48          350000\n",
      "20          500000\n",
      "47          180000\n",
      "46               0\n",
      "39          260000\n",
      "82               0\n",
      "54          230000\n",
      "92          450000     [ 6.09681328e+05  5.28573378e+05 -1.99508365e+02  4.06475036e+05\n",
      "  3.00614101e+05  6.02229880e+05  1.10624892e+06 -1.95594459e+02\n",
      "  6.02543341e+05  3.43714436e+05  1.08389559e+06  6.32233317e+05\n",
      "  3.56092199e+05  5.52988644e+05  3.20250806e+05  1.21421058e+02\n",
      "  2.81128634e+05  1.65106980e+02  3.61690709e+05  6.20225206e+05]\n"
     ]
    }
   ],
   "source": [
    "print(y1_test,\"   \",pred1)"
   ]
  },
  {
   "cell_type": "code",
   "execution_count": null,
   "metadata": {},
   "outputs": [],
   "source": []
  },
  {
   "cell_type": "code",
   "execution_count": 104,
   "metadata": {},
   "outputs": [],
   "source": [
    "#print(y1_test,\"    \",y1_pred1,\"        \",y2_test,\"          \",y2_pred1)"
   ]
  },
  {
   "cell_type": "code",
   "execution_count": null,
   "metadata": {},
   "outputs": [],
   "source": []
  },
  {
   "cell_type": "code",
   "execution_count": null,
   "metadata": {},
   "outputs": [],
   "source": []
  },
  {
   "cell_type": "code",
   "execution_count": null,
   "metadata": {},
   "outputs": [],
   "source": []
  },
  {
   "cell_type": "code",
   "execution_count": 106,
   "metadata": {},
   "outputs": [
    {
     "name": "stdout",
     "output_type": "stream",
     "text": [
      "r2_score for LGBM regression model is   0.8149451469730342\n",
      "Root mean squared error for LGBM regression model is  148003.1856170736\n"
     ]
    }
   ],
   "source": [
    "from lightgbm import LGBMRegressor\n",
    "lgbm=LGBMRegressor(random_state=45)\n",
    "lgbm.fit(x1_train,y1_train)\n",
    "y1_predict1=lgbm.predict(x1_test)\n",
    "r1=r2_score(y1_test,y1_predict1)\n",
    "m1=mean_squared_error(y1_test,y1_predict1)\n",
    "print(\"r2_score for LGBM regression model is  \",r1)\n",
    "print(\"Root mean squared error for LGBM regression model is \",np.sqrt(m1))"
   ]
  },
  {
   "cell_type": "code",
   "execution_count": 107,
   "metadata": {},
   "outputs": [
    {
     "name": "stdout",
     "output_type": "stream",
     "text": [
      "    Annual Package\n",
      "94          650000\n",
      "23          460000\n",
      "67               0\n",
      "17          400000\n",
      "58          280000\n",
      "0          1100000\n",
      "30         1250000\n",
      "60          150000\n",
      "65          380000\n",
      "44          300000\n",
      "74         1000000\n",
      "38          660000\n",
      "48          350000\n",
      "20          500000\n",
      "47          180000\n",
      "46               0\n",
      "39          260000\n",
      "82               0\n",
      "54          230000\n",
      "92          450000     [ 925541.48217548  485506.06404892  -15697.81204251  385851.34478423\n",
      "  373621.44701232 1029564.50150851 1046977.61006981  -29774.24909123\n",
      "  629693.57911995  263563.36192905  910672.58630543  980414.67179453\n",
      "  516549.61683469  708692.28285917  266657.19999606  -20513.1929546\n",
      "  201453.88421983  -21458.67602391  288690.20751656  563762.69373119]\n"
     ]
    }
   ],
   "source": [
    "print(y1_test,\"   \",y1_predict1)"
   ]
  },
  {
   "cell_type": "code",
   "execution_count": null,
   "metadata": {},
   "outputs": [],
   "source": []
  },
  {
   "cell_type": "code",
   "execution_count": 108,
   "metadata": {},
   "outputs": [],
   "source": [
    "#print(y1_test,\"    \",y1_pred1,\"        \",y2_test,\"          \",y2_pred1)"
   ]
  },
  {
   "cell_type": "code",
   "execution_count": null,
   "metadata": {},
   "outputs": [],
   "source": []
  },
  {
   "cell_type": "code",
   "execution_count": null,
   "metadata": {},
   "outputs": [],
   "source": []
  },
  {
   "cell_type": "code",
   "execution_count": 111,
   "metadata": {},
   "outputs": [
    {
     "name": "stderr",
     "output_type": "stream",
     "text": [
      "C:\\Users\\hp\\Anaconda3\\lib\\site-packages\\ipykernel_launcher.py:5: DataConversionWarning: A column-vector y was passed when a 1d array was expected. Please change the shape of y to (n_samples,), for example using ravel().\n",
      "  \"\"\"\n"
     ]
    },
    {
     "name": "stdout",
     "output_type": "stream",
     "text": [
      "r2_score for Random forest  classifier model is   0.7569063107206218\n",
      "Root mean squared error for LGBM regression model is  169631.95453687373\n"
     ]
    }
   ],
   "source": [
    "from sklearn import ensemble, model_selection \n",
    "RFC = ensemble.RandomForestClassifier( n_estimators = 100,max_depth = 8, min_samples_split = 4, n_jobs = -1, random_state = 1 )\n",
    "\n",
    "#fitting in to dataset\n",
    "RFC = RFC.fit(x1_train, y1_train)\n",
    "#Score of the train dataset\n",
    "\n",
    "\n",
    "\n",
    "y1_predict1=RFC.predict(x1_test)\n",
    "r1=r2_score(y1_test,y1_predict1)\n",
    "m1=mean_squared_error(y1_test,y1_predict1)\n",
    "print(\"r2_score for Random forest  classifier model is  \",r1)\n",
    "print(\"Root mean squared error for LGBM regression model is \",np.sqrt(m1))"
   ]
  },
  {
   "cell_type": "code",
   "execution_count": 112,
   "metadata": {},
   "outputs": [
    {
     "name": "stdout",
     "output_type": "stream",
     "text": [
      "    Annual Package\n",
      "94          650000\n",
      "23          460000\n",
      "67               0\n",
      "17          400000\n",
      "58          280000\n",
      "0          1100000\n",
      "30         1250000\n",
      "60          150000\n",
      "65          380000\n",
      "44          300000\n",
      "74         1000000\n",
      "38          660000\n",
      "48          350000\n",
      "20          500000\n",
      "47          180000\n",
      "46               0\n",
      "39          260000\n",
      "82               0\n",
      "54          230000\n",
      "92          450000     [ 650000  450000       0  350000  300000  780000 1080000       0  780000\n",
      "  180000  780000  650000  750000  550000  340000       0  280000       0\n",
      "  200000  370000]\n"
     ]
    }
   ],
   "source": [
    "print(y1_test,\"   \",y1_predict1)"
   ]
  },
  {
   "cell_type": "code",
   "execution_count": null,
   "metadata": {},
   "outputs": [],
   "source": []
  },
  {
   "cell_type": "code",
   "execution_count": 110,
   "metadata": {},
   "outputs": [],
   "source": [
    "#print(y1_test,\"    \",y1_pred1,\"        \",y2_test,\"          \",y2_pred1)"
   ]
  },
  {
   "cell_type": "code",
   "execution_count": null,
   "metadata": {},
   "outputs": [],
   "source": []
  },
  {
   "cell_type": "code",
   "execution_count": null,
   "metadata": {},
   "outputs": [],
   "source": []
  },
  {
   "cell_type": "code",
   "execution_count": null,
   "metadata": {},
   "outputs": [],
   "source": []
  }
 ],
 "metadata": {
  "kernelspec": {
   "display_name": "Python 3",
   "language": "python",
   "name": "python3"
  },
  "language_info": {
   "codemirror_mode": {
    "name": "ipython",
    "version": 3
   },
   "file_extension": ".py",
   "mimetype": "text/x-python",
   "name": "python",
   "nbconvert_exporter": "python",
   "pygments_lexer": "ipython3",
   "version": "3.7.3"
  }
 },
 "nbformat": 4,
 "nbformat_minor": 2
}
