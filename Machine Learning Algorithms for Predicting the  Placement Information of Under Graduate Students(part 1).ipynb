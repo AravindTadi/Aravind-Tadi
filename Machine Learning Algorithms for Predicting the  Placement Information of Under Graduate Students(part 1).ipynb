{
 "cells": [
  {
   "cell_type": "markdown",
   "metadata": {},
   "source": [
    "# Placement Prediction #"
   ]
  },
  {
   "cell_type": "code",
   "execution_count": 1,
   "metadata": {},
   "outputs": [
    {
     "name": "stdout",
     "output_type": "stream",
     "text": [
      "    Roll.no  CGPA  tot_arriers  clrd_arriers  Interns  Paid_intrn  Projects  \\\n",
      "0   cseXXXX  8.20            0             0        3           1         5   \n",
      "1   cseXXXX  7.20            3             3        1           1         1   \n",
      "2   cseXXXX  2.30           14             2        0           0         0   \n",
      "3   cseXXXX  6.50            0             0        1           2         3   \n",
      "4   cseXXXX  9.50            0             0        1           1         1   \n",
      "5   cseXXXX  7.60            0             0        0           0         0   \n",
      "6   cseXXXX  6.40            2             1        1           1         0   \n",
      "7   cseXXXX  9.20            0             0        0           0         0   \n",
      "8   cseXXXX  7.70            0             0        2           1         3   \n",
      "9   cseXXXX  8.50            0             0        0           1         1   \n",
      "10  cseXXXX  3.90            7             2        1           0         1   \n",
      "11  cseXXXX  7.70            1             0        0           1         2   \n",
      "12  cseXXXX  4.70            5             3        1           2         3   \n",
      "13  cseXXXX  6.00            0             0        1           1         3   \n",
      "14  cseXXXX  6.50            1             0        0           1         2   \n",
      "15  cseXXXX  5.10            5             3        0           0         0   \n",
      "16  cseXXXX  6.20            1             0        0           1         2   \n",
      "17  cseXXXX  7.10            0             0        0           0         2   \n",
      "18  cseXXXX  6.90            0             0        0           0         0   \n",
      "19  cseXXXX  4.80            3             1        0           0         1   \n",
      "20  cseXXXX  8.20            0             0        0           0         0   \n",
      "21  cseXXXX  8.10            0             0        0           1         1   \n",
      "22  cseXXXX  7.00            0             0        1           1         1   \n",
      "23  cseXXXX  7.80            0             0        0           0         0   \n",
      "24  cseXXXX  3.50            7             4        0           1         1   \n",
      "25  cseXXXX  7.60            0             0        1           0         1   \n",
      "26  cseXXXX  2.80           12             3        0           0         0   \n",
      "27  cseXXXX  8.50            0             0        3           2         3   \n",
      "28  cseXXXX  5.20            2             1        1           1         1   \n",
      "29  cseXXXX  6.50            1             0        1           0         0   \n",
      "..      ...   ...          ...           ...      ...         ...       ...   \n",
      "69  cseXXXX  7.91            0             0        2           1         3   \n",
      "70  cseXXXX  8.34            1             1        1           2         1   \n",
      "71  cseXXXX  8.56            0             0        3           0         0   \n",
      "72  cseXXXX  8.80            0             0        1           2         5   \n",
      "73  cseXXXX  8.23            1             1        0           1         1   \n",
      "74  cseXXXX  9.00            0             0        2           1         2   \n",
      "75  cseXXXX  9.23            0             0        2           0         4   \n",
      "76  cseXXXX  3.67            9             4        0           1         1   \n",
      "77  cseXXXX  9.34            0             0        1           2         4   \n",
      "78  cseXXXX  9.65            0             0        4           1         7   \n",
      "79  cseXXXX  8.81            0             0        0           0         0   \n",
      "80  cseXXXX  8.72            0             0        2           2         1   \n",
      "81  cseXXXX  7.54            1             1        2           1         3   \n",
      "82  cseXXXX  4.56            4             2        1           1         1   \n",
      "83  cseXXXX  4.89            3             1        0           1         0   \n",
      "84  cseXXXX  5.94            2             0        1           1         1   \n",
      "85  cseXXXX  6.34            1             0        0           1         0   \n",
      "86  cseXXXX  9.80            0             0        3           2         6   \n",
      "87  cseXXXX  5.90            2             0        0           1         1   \n",
      "88  cseXXXX  6.65            2             1        1           1         0   \n",
      "89  cseXXXX  4.73            4             1        0           2         1   \n",
      "90  cseXXXX  8.67            1             1        3           2         3   \n",
      "91  cseXXXX  6.73            1             1        0           1         0   \n",
      "92  cseXXXX  7.70            0             0        2           0         1   \n",
      "93  cseXXXX  3.50           11             4        0           0         1   \n",
      "94  cseXXXX  8.23            0             0        2           1         2   \n",
      "95  cseXXXX  7.56            2             2        3           1         1   \n",
      "96  cseXXXX  5.89            3             1        1           0         2   \n",
      "97  cseXXXX  6.90            4             4        2           1         1   \n",
      "98  cseXXXX  6.20            2             2        2           2         4   \n",
      "\n",
      "    Articels  Placement  \n",
      "0          2    1100000  \n",
      "1          0     450000  \n",
      "2          0          0  \n",
      "3          1     350000  \n",
      "4          1    1050000  \n",
      "5          0     450000  \n",
      "6          0     300000  \n",
      "7          0     800000  \n",
      "8          1     750000  \n",
      "9          0     750000  \n",
      "10         0          0  \n",
      "11         0     350000  \n",
      "12         0     250000  \n",
      "13         0     350000  \n",
      "14         0     300000  \n",
      "15         0          0  \n",
      "16         0     300000  \n",
      "17         0     400000  \n",
      "18         0     400000  \n",
      "19         0          0  \n",
      "20         0     500000  \n",
      "21         0     550000  \n",
      "22         0     420000  \n",
      "23         0     460000  \n",
      "24         0          0  \n",
      "25         0     350000  \n",
      "26         0          0  \n",
      "27         2     780000  \n",
      "28         0          0  \n",
      "29         0     400000  \n",
      "..       ...        ...  \n",
      "69         1     560000  \n",
      "70         2     570000  \n",
      "71         3     780000  \n",
      "72         2     950000  \n",
      "73         1     450000  \n",
      "74         4    1000000  \n",
      "75         2    1280000  \n",
      "76         0          0  \n",
      "77         3    1080000  \n",
      "78         4    1290000  \n",
      "79         0     550000  \n",
      "80         1     760000  \n",
      "81         1     550000  \n",
      "82         0     130000  \n",
      "83         1     170000  \n",
      "84         0     200000  \n",
      "85         1     340000  \n",
      "86         3    1450000  \n",
      "87         0     120000  \n",
      "88         1     330000  \n",
      "89         0     129000  \n",
      "90         0     650000  \n",
      "91         2     380000  \n",
      "92         1     400000  \n",
      "93         0          0  \n",
      "94         1     650000  \n",
      "95         0     200000  \n",
      "96         0     180000  \n",
      "97         2     300000  \n",
      "98         2     270000  \n",
      "\n",
      "[99 rows x 9 columns]\n"
     ]
    }
   ],
   "source": [
    "import pandas as pd\n",
    "import numpy as np\n",
    "import matplotlib.pyplot as plt\n",
    "import seaborn as sns\n",
    "%matplotlib inline\n",
    "\n",
    "dat=pd.read_csv(\"main1.csv.csv\")\n",
    "print(dat)"
   ]
  },
  {
   "cell_type": "code",
   "execution_count": 2,
   "metadata": {},
   "outputs": [
    {
     "data": {
      "text/plain": [
       "Roll.no          object\n",
       "CGPA            float64\n",
       "tot_arriers       int64\n",
       "clrd_arriers      int64\n",
       "Interns           int64\n",
       "Paid_intrn        int64\n",
       "Projects          int64\n",
       "Articels          int64\n",
       "Placement         int64\n",
       "dtype: object"
      ]
     },
     "execution_count": 2,
     "metadata": {},
     "output_type": "execute_result"
    }
   ],
   "source": [
    "iin=dat.iloc[ : , : ]\n",
    "\n",
    "iin.head()\n",
    "iin.dtypes"
   ]
  },
  {
   "cell_type": "code",
   "execution_count": 3,
   "metadata": {},
   "outputs": [
    {
     "data": {
      "text/html": [
       "<div>\n",
       "<style scoped>\n",
       "    .dataframe tbody tr th:only-of-type {\n",
       "        vertical-align: middle;\n",
       "    }\n",
       "\n",
       "    .dataframe tbody tr th {\n",
       "        vertical-align: top;\n",
       "    }\n",
       "\n",
       "    .dataframe thead th {\n",
       "        text-align: right;\n",
       "    }\n",
       "</style>\n",
       "<table border=\"1\" class=\"dataframe\">\n",
       "  <thead>\n",
       "    <tr style=\"text-align: right;\">\n",
       "      <th></th>\n",
       "      <th>Roll.no</th>\n",
       "      <th>CGPA</th>\n",
       "      <th>tot_arriers</th>\n",
       "      <th>clrd_arriers</th>\n",
       "      <th>Interns</th>\n",
       "      <th>Paid_intrn</th>\n",
       "      <th>Projects</th>\n",
       "      <th>Articels</th>\n",
       "      <th>Placement</th>\n",
       "    </tr>\n",
       "  </thead>\n",
       "  <tbody>\n",
       "    <tr>\n",
       "      <th>0</th>\n",
       "      <td>cseXXXX</td>\n",
       "      <td>8.2</td>\n",
       "      <td>0</td>\n",
       "      <td>0</td>\n",
       "      <td>3</td>\n",
       "      <td>1</td>\n",
       "      <td>5</td>\n",
       "      <td>2</td>\n",
       "      <td>1100000</td>\n",
       "    </tr>\n",
       "    <tr>\n",
       "      <th>1</th>\n",
       "      <td>cseXXXX</td>\n",
       "      <td>7.2</td>\n",
       "      <td>3</td>\n",
       "      <td>3</td>\n",
       "      <td>1</td>\n",
       "      <td>1</td>\n",
       "      <td>1</td>\n",
       "      <td>0</td>\n",
       "      <td>450000</td>\n",
       "    </tr>\n",
       "    <tr>\n",
       "      <th>2</th>\n",
       "      <td>cseXXXX</td>\n",
       "      <td>2.3</td>\n",
       "      <td>14</td>\n",
       "      <td>2</td>\n",
       "      <td>0</td>\n",
       "      <td>0</td>\n",
       "      <td>0</td>\n",
       "      <td>0</td>\n",
       "      <td>0</td>\n",
       "    </tr>\n",
       "    <tr>\n",
       "      <th>3</th>\n",
       "      <td>cseXXXX</td>\n",
       "      <td>6.5</td>\n",
       "      <td>0</td>\n",
       "      <td>0</td>\n",
       "      <td>1</td>\n",
       "      <td>2</td>\n",
       "      <td>3</td>\n",
       "      <td>1</td>\n",
       "      <td>350000</td>\n",
       "    </tr>\n",
       "    <tr>\n",
       "      <th>4</th>\n",
       "      <td>cseXXXX</td>\n",
       "      <td>9.5</td>\n",
       "      <td>0</td>\n",
       "      <td>0</td>\n",
       "      <td>1</td>\n",
       "      <td>1</td>\n",
       "      <td>1</td>\n",
       "      <td>1</td>\n",
       "      <td>1050000</td>\n",
       "    </tr>\n",
       "  </tbody>\n",
       "</table>\n",
       "</div>"
      ],
      "text/plain": [
       "   Roll.no  CGPA  tot_arriers  clrd_arriers  Interns  Paid_intrn  Projects  \\\n",
       "0  cseXXXX   8.2            0             0        3           1         5   \n",
       "1  cseXXXX   7.2            3             3        1           1         1   \n",
       "2  cseXXXX   2.3           14             2        0           0         0   \n",
       "3  cseXXXX   6.5            0             0        1           2         3   \n",
       "4  cseXXXX   9.5            0             0        1           1         1   \n",
       "\n",
       "   Articels  Placement  \n",
       "0         2    1100000  \n",
       "1         0     450000  \n",
       "2         0          0  \n",
       "3         1     350000  \n",
       "4         1    1050000  "
      ]
     },
     "execution_count": 3,
     "metadata": {},
     "output_type": "execute_result"
    }
   ],
   "source": [
    "dat.drop(columns=['Roll.no'])\n",
    "dat.head()"
   ]
  },
  {
   "cell_type": "code",
   "execution_count": 4,
   "metadata": {},
   "outputs": [
    {
     "data": {
      "text/plain": [
       "CGPA            float64\n",
       "tot_arriers       int64\n",
       "clrd_arriers      int64\n",
       "Interns           int64\n",
       "Paid_intrn        int64\n",
       "Projects          int64\n",
       "Articels          int64\n",
       "dtype: object"
      ]
     },
     "execution_count": 4,
     "metadata": {},
     "output_type": "execute_result"
    }
   ],
   "source": [
    "x=dat.iloc[ : ,1:8]\n",
    "df = pd.DataFrame(data=x)\n",
    "df.astype('float64').dtypes\n",
    "df.head()\n",
    "df.dtypes"
   ]
  },
  {
   "cell_type": "code",
   "execution_count": 5,
   "metadata": {},
   "outputs": [
    {
     "data": {
      "text/html": [
       "<div>\n",
       "<style scoped>\n",
       "    .dataframe tbody tr th:only-of-type {\n",
       "        vertical-align: middle;\n",
       "    }\n",
       "\n",
       "    .dataframe tbody tr th {\n",
       "        vertical-align: top;\n",
       "    }\n",
       "\n",
       "    .dataframe thead th {\n",
       "        text-align: right;\n",
       "    }\n",
       "</style>\n",
       "<table border=\"1\" class=\"dataframe\">\n",
       "  <thead>\n",
       "    <tr style=\"text-align: right;\">\n",
       "      <th></th>\n",
       "      <th>Placement</th>\n",
       "    </tr>\n",
       "  </thead>\n",
       "  <tbody>\n",
       "    <tr>\n",
       "      <th>0</th>\n",
       "      <td>1100000</td>\n",
       "    </tr>\n",
       "    <tr>\n",
       "      <th>1</th>\n",
       "      <td>450000</td>\n",
       "    </tr>\n",
       "    <tr>\n",
       "      <th>2</th>\n",
       "      <td>0</td>\n",
       "    </tr>\n",
       "    <tr>\n",
       "      <th>3</th>\n",
       "      <td>350000</td>\n",
       "    </tr>\n",
       "    <tr>\n",
       "      <th>4</th>\n",
       "      <td>1050000</td>\n",
       "    </tr>\n",
       "  </tbody>\n",
       "</table>\n",
       "</div>"
      ],
      "text/plain": [
       "   Placement\n",
       "0    1100000\n",
       "1     450000\n",
       "2          0\n",
       "3     350000\n",
       "4    1050000"
      ]
     },
     "execution_count": 5,
     "metadata": {},
     "output_type": "execute_result"
    }
   ],
   "source": [
    "y=dat.iloc[ : ,8:9]\n",
    "y.head()\n"
   ]
  },
  {
   "cell_type": "code",
   "execution_count": 6,
   "metadata": {
    "scrolled": true
   },
   "outputs": [
    {
     "data": {
      "text/html": [
       "<div>\n",
       "<style scoped>\n",
       "    .dataframe tbody tr th:only-of-type {\n",
       "        vertical-align: middle;\n",
       "    }\n",
       "\n",
       "    .dataframe tbody tr th {\n",
       "        vertical-align: top;\n",
       "    }\n",
       "\n",
       "    .dataframe thead th {\n",
       "        text-align: right;\n",
       "    }\n",
       "</style>\n",
       "<table border=\"1\" class=\"dataframe\">\n",
       "  <thead>\n",
       "    <tr style=\"text-align: right;\">\n",
       "      <th></th>\n",
       "      <th>CGPA</th>\n",
       "      <th>tot_arriers</th>\n",
       "      <th>clrd_arriers</th>\n",
       "      <th>Interns</th>\n",
       "      <th>Paid_intrn</th>\n",
       "      <th>Projects</th>\n",
       "      <th>Articels</th>\n",
       "      <th>Placement</th>\n",
       "    </tr>\n",
       "  </thead>\n",
       "  <tbody>\n",
       "    <tr>\n",
       "      <th>count</th>\n",
       "      <td>99.000000</td>\n",
       "      <td>99.000000</td>\n",
       "      <td>99.000000</td>\n",
       "      <td>99.000000</td>\n",
       "      <td>99.000000</td>\n",
       "      <td>99.000000</td>\n",
       "      <td>99.000000</td>\n",
       "      <td>9.900000e+01</td>\n",
       "    </tr>\n",
       "    <tr>\n",
       "      <th>mean</th>\n",
       "      <td>6.593636</td>\n",
       "      <td>2.474747</td>\n",
       "      <td>0.878788</td>\n",
       "      <td>1.050505</td>\n",
       "      <td>0.808081</td>\n",
       "      <td>1.676768</td>\n",
       "      <td>0.757576</td>\n",
       "      <td>4.110000e+05</td>\n",
       "    </tr>\n",
       "    <tr>\n",
       "      <th>std</th>\n",
       "      <td>1.996298</td>\n",
       "      <td>3.737137</td>\n",
       "      <td>1.239427</td>\n",
       "      <td>1.172593</td>\n",
       "      <td>0.695125</td>\n",
       "      <td>1.640236</td>\n",
       "      <td>1.040907</td>\n",
       "      <td>3.662950e+05</td>\n",
       "    </tr>\n",
       "    <tr>\n",
       "      <th>min</th>\n",
       "      <td>1.100000</td>\n",
       "      <td>0.000000</td>\n",
       "      <td>0.000000</td>\n",
       "      <td>0.000000</td>\n",
       "      <td>0.000000</td>\n",
       "      <td>0.000000</td>\n",
       "      <td>0.000000</td>\n",
       "      <td>0.000000e+00</td>\n",
       "    </tr>\n",
       "    <tr>\n",
       "      <th>25%</th>\n",
       "      <td>5.150000</td>\n",
       "      <td>0.000000</td>\n",
       "      <td>0.000000</td>\n",
       "      <td>0.000000</td>\n",
       "      <td>0.000000</td>\n",
       "      <td>1.000000</td>\n",
       "      <td>0.000000</td>\n",
       "      <td>1.400000e+05</td>\n",
       "    </tr>\n",
       "    <tr>\n",
       "      <th>50%</th>\n",
       "      <td>6.800000</td>\n",
       "      <td>1.000000</td>\n",
       "      <td>0.000000</td>\n",
       "      <td>1.000000</td>\n",
       "      <td>1.000000</td>\n",
       "      <td>1.000000</td>\n",
       "      <td>0.000000</td>\n",
       "      <td>3.400000e+05</td>\n",
       "    </tr>\n",
       "    <tr>\n",
       "      <th>75%</th>\n",
       "      <td>8.200000</td>\n",
       "      <td>3.000000</td>\n",
       "      <td>1.000000</td>\n",
       "      <td>2.000000</td>\n",
       "      <td>1.000000</td>\n",
       "      <td>2.000000</td>\n",
       "      <td>1.000000</td>\n",
       "      <td>5.650000e+05</td>\n",
       "    </tr>\n",
       "    <tr>\n",
       "      <th>max</th>\n",
       "      <td>9.800000</td>\n",
       "      <td>17.000000</td>\n",
       "      <td>5.000000</td>\n",
       "      <td>5.000000</td>\n",
       "      <td>2.000000</td>\n",
       "      <td>8.000000</td>\n",
       "      <td>4.000000</td>\n",
       "      <td>1.450000e+06</td>\n",
       "    </tr>\n",
       "  </tbody>\n",
       "</table>\n",
       "</div>"
      ],
      "text/plain": [
       "            CGPA  tot_arriers  clrd_arriers    Interns  Paid_intrn   Projects  \\\n",
       "count  99.000000    99.000000     99.000000  99.000000   99.000000  99.000000   \n",
       "mean    6.593636     2.474747      0.878788   1.050505    0.808081   1.676768   \n",
       "std     1.996298     3.737137      1.239427   1.172593    0.695125   1.640236   \n",
       "min     1.100000     0.000000      0.000000   0.000000    0.000000   0.000000   \n",
       "25%     5.150000     0.000000      0.000000   0.000000    0.000000   1.000000   \n",
       "50%     6.800000     1.000000      0.000000   1.000000    1.000000   1.000000   \n",
       "75%     8.200000     3.000000      1.000000   2.000000    1.000000   2.000000   \n",
       "max     9.800000    17.000000      5.000000   5.000000    2.000000   8.000000   \n",
       "\n",
       "        Articels     Placement  \n",
       "count  99.000000  9.900000e+01  \n",
       "mean    0.757576  4.110000e+05  \n",
       "std     1.040907  3.662950e+05  \n",
       "min     0.000000  0.000000e+00  \n",
       "25%     0.000000  1.400000e+05  \n",
       "50%     0.000000  3.400000e+05  \n",
       "75%     1.000000  5.650000e+05  \n",
       "max     4.000000  1.450000e+06  "
      ]
     },
     "execution_count": 6,
     "metadata": {},
     "output_type": "execute_result"
    }
   ],
   "source": [
    "dat.describe()"
   ]
  },
  {
   "cell_type": "markdown",
   "metadata": {},
   "source": [
    "# Data visualization"
   ]
  },
  {
   "cell_type": "code",
   "execution_count": 7,
   "metadata": {},
   "outputs": [
    {
     "data": {
      "image/png": "[encoded data removed]",
      "text/plain": [
       "<Figure size 1080x1080 with 9 Axes>"
      ]
     },
     "metadata": {
      "needs_background": "light"
     },
     "output_type": "display_data"
    }
   ],
   "source": [
    "dv= dat.columns[dat.dtypes !='object']\n",
    "dat[dv].hist(figsize=(15,15))\n",
    "plt.show()"
   ]
  },
  {
   "cell_type": "markdown",
   "metadata": {},
   "source": [
    "# Data preprocessing"
   ]
  },
  {
   "cell_type": "code",
   "execution_count": 8,
   "metadata": {},
   "outputs": [
    {
     "data": {
      "text/plain": [
       "Roll.no         0\n",
       "CGPA            0\n",
       "tot_arriers     0\n",
       "clrd_arriers    0\n",
       "Interns         0\n",
       "Paid_intrn      0\n",
       "Projects        0\n",
       "Articels        0\n",
       "Placement       0\n",
       "dtype: int64"
      ]
     },
     "execution_count": 8,
     "metadata": {},
     "output_type": "execute_result"
    }
   ],
   "source": [
    "#Checking for missing values\n",
    "dat.isnull().sum()"
   ]
  },
  {
   "cell_type": "code",
   "execution_count": 9,
   "metadata": {},
   "outputs": [],
   "source": [
    "#Drop the missing values\n",
    "dat.dropna(axis=0,inplace=True)"
   ]
  },
  {
   "cell_type": "code",
   "execution_count": null,
   "metadata": {},
   "outputs": [],
   "source": []
  },
  {
   "cell_type": "code",
   "execution_count": 10,
   "metadata": {},
   "outputs": [],
   "source": [
    "#Splitting the data\n",
    "from sklearn.model_selection import train_test_split\n",
    "from sklearn import datasets\n",
    "from sklearn.metrics import mean_squared_error\n",
    "\n",
    "\n",
    "x_train, x_test, y_train, y_test = train_test_split(x,y,test_size=0.10,random_state=42,shuffle=True)\n"
   ]
  },
  {
   "cell_type": "code",
   "execution_count": 11,
   "metadata": {},
   "outputs": [],
   "source": [
    "#Linear Regression 1"
   ]
  },
  {
   "cell_type": "code",
   "execution_count": 12,
   "metadata": {},
   "outputs": [
    {
     "name": "stdout",
     "output_type": "stream",
     "text": [
      "Score = 0.8928611186699242\n"
     ]
    }
   ],
   "source": [
    "from sklearn.linear_model import LinearRegression\n",
    "my_model = LinearRegression()\n",
    "my_model.fit(x_train,y_train)\n",
    "pred=my_model.predict(x_test)\n",
    "print(\"Score =\",my_model.score(x_test, y_test))\n",
    "\n"
   ]
  },
  {
   "cell_type": "code",
   "execution_count": null,
   "metadata": {},
   "outputs": [],
   "source": []
  },
  {
   "cell_type": "code",
   "execution_count": null,
   "metadata": {},
   "outputs": [],
   "source": []
  },
  {
   "cell_type": "code",
   "execution_count": 13,
   "metadata": {},
   "outputs": [],
   "source": [
    "#Linear Regression 2"
   ]
  },
  {
   "cell_type": "code",
   "execution_count": 32,
   "metadata": {},
   "outputs": [
    {
     "name": "stdout",
     "output_type": "stream",
     "text": [
      "r2_score for linear regression model is   0.8928611186699241\n",
      "Root mean squared error for linear regression model is  138160.38380553105\n"
     ]
    }
   ],
   "source": [
    "from sklearn.linear_model import LinearRegression\n",
    "from sklearn.metrics import r2_score,mean_squared_error\n",
    "#Create an object to regressor\n",
    "lr=LinearRegression()\n",
    "#fitting the object to training data\n",
    "lr.fit(x_train,y_train)\n",
    "#predicting using testing data\n",
    "y_predict=lr.predict(x_test)\n",
    "#Calculating the r2_score\n",
    "r=r2_score(y_test,y_predict)\n",
    "m=mean_squared_error(y_test,y_predict)\n",
    "print(\"r2_score for linear regression model is  \",r)\n",
    "print(\"Root mean squared error for linear regression model is \",np.sqrt(m))"
   ]
  },
  {
   "cell_type": "code",
   "execution_count": 33,
   "metadata": {},
   "outputs": [
    {
     "name": "stdout",
     "output_type": "stream",
     "text": [
      "    Placement\n",
      "62     280000\n",
      "40          0\n",
      "95     200000\n",
      "18     400000\n",
      "97     300000\n",
      "84     200000\n",
      "64     160000\n",
      "42    1300000\n",
      "10          0\n",
      "0     1100000 \n",
      "  [[ 290038.62488812]\n",
      " [  70807.36614716]\n",
      " [ 456306.46664074]\n",
      " [ 252499.26015427]\n",
      " [ 477637.73190397]\n",
      " [ 226067.14443968]\n",
      " [ 205284.21809214]\n",
      " [1323431.24282239]\n",
      " [  18610.33790088]\n",
      " [ 848726.64624906]]\n"
     ]
    }
   ],
   "source": [
    "print(y_test,\"\\n \",y_predict)"
   ]
  },
  {
   "cell_type": "code",
   "execution_count": 34,
   "metadata": {},
   "outputs": [
    {
     "name": "stdout",
     "output_type": "stream",
     "text": [
      "[[ 290038.62488812]\n",
      " [  70807.36614716]\n",
      " [ 456306.46664074]\n",
      " [ 252499.26015427]\n",
      " [ 477637.73190397]\n",
      " [ 226067.14443968]\n",
      " [ 205284.21809214]\n",
      " [1323431.24282239]\n",
      " [  18610.33790088]\n",
      " [ 848726.64624906]]\n"
     ]
    }
   ],
   "source": [
    "print(y_predict)"
   ]
  },
  {
   "cell_type": "code",
   "execution_count": 35,
   "metadata": {},
   "outputs": [],
   "source": [
    "xp=[[4.1,7,0,0,0,2,0]]"
   ]
  },
  {
   "cell_type": "code",
   "execution_count": 36,
   "metadata": {},
   "outputs": [],
   "source": [
    "ynew = lr.predict(xp)"
   ]
  },
  {
   "cell_type": "code",
   "execution_count": 37,
   "metadata": {},
   "outputs": [
    {
     "name": "stdout",
     "output_type": "stream",
     "text": [
      "[[169942.7442756]]\n"
     ]
    }
   ],
   "source": [
    "print(ynew)"
   ]
  },
  {
   "cell_type": "code",
   "execution_count": 20,
   "metadata": {},
   "outputs": [],
   "source": [
    "#Pllynomial Regression"
   ]
  },
  {
   "cell_type": "code",
   "execution_count": 21,
   "metadata": {},
   "outputs": [
    {
     "name": "stdout",
     "output_type": "stream",
     "text": [
      "Error = 1.9236585714285719\n"
     ]
    }
   ],
   "source": [
    "from sklearn.model_selection import train_test_split\n",
    "from sklearn import datasets\n",
    "from sklearn.metrics import mean_squared_error\n",
    "\n",
    "\n",
    "x_train, x_test, y_train, y_test = train_test_split(x,y,test_size=0.10,random_state=42,shuffle=True)\n",
    "\n",
    "from sklearn.preprocessing import PolynomialFeatures\n",
    "sample_model = PolynomialFeatures(degree= 4)\n",
    "y_ = sample_model.fit_transform(y)\n",
    "y_test_ = sample_model.fit_transform(y_test)\n",
    "lg = LinearRegression()\n",
    "lg.fit(y,x)\n",
    "\n",
    "predicted_data = lg.predict(y_test)\n",
    "predicted_data1 = np.round_(predicted_data)\n",
    "\n",
    "print (\"Error =\",mean_squared_error(x_test,predicted_data1))\n"
   ]
  },
  {
   "cell_type": "code",
   "execution_count": 22,
   "metadata": {},
   "outputs": [
    {
     "name": "stdout",
     "output_type": "stream",
     "text": [
      "    Placement\n",
      "62     280000\n",
      "40          0\n",
      "95     200000\n",
      "18     400000\n",
      "97     300000\n",
      "84     200000\n",
      "64     160000\n",
      "42    1300000\n",
      "10          0\n",
      "0     1100000\n"
     ]
    }
   ],
   "source": [
    "print(y_test)"
   ]
  },
  {
   "cell_type": "code",
   "execution_count": 23,
   "metadata": {},
   "outputs": [
    {
     "name": "stdout",
     "output_type": "stream",
     "text": [
      "[[ 5.97021468  3.28541375  1.12873559  0.79340402  0.73437572  1.26915803\n",
      "   0.48245195]\n",
      " [ 4.63771031  5.01813556  1.66297498  0.24387509  0.57683813  0.3979313\n",
      "  -0.10559894]\n",
      " [ 5.58949915  3.78047713  1.28137542  0.63639575  0.68936498  1.02023611\n",
      "   0.31443741]\n",
      " [ 6.54128798  2.54281869  0.89977585  1.02891641  0.80189183  1.64254091\n",
      "   0.73447376]\n",
      " [ 6.06539356  3.16164791  1.09057564  0.83265608  0.74562841  1.33138851\n",
      "   0.52445558]\n",
      " [ 5.58949915  3.78047713  1.28137542  0.63639575  0.68936498  1.02023611\n",
      "   0.31443741]\n",
      " [ 5.39914138  4.02800881  1.35769533  0.55789162  0.66685961  0.89577515\n",
      "   0.23043014]\n",
      " [10.82433772 -3.02664428 -0.81742218  2.79525939  1.30826265  4.44291253\n",
      "   2.62463733]\n",
      " [ 4.63771031  5.01813556  1.66297498  0.24387509  0.57683813  0.3979313\n",
      "  -0.10559894]\n",
      " [ 9.87254889 -1.78898584 -0.43582262  2.40273873  1.1957358   3.82060773\n",
      "   2.20460098]]\n"
     ]
    }
   ],
   "source": [
    "print(predicted_data)"
   ]
  },
  {
   "cell_type": "code",
   "execution_count": 24,
   "metadata": {},
   "outputs": [],
   "source": [
    "#Random Forest Regressor"
   ]
  },
  {
   "cell_type": "code",
   "execution_count": 25,
   "metadata": {},
   "outputs": [],
   "source": [
    "\n",
    "\n"
   ]
  },
  {
   "cell_type": "code",
   "execution_count": 26,
   "metadata": {},
   "outputs": [],
   "source": [
    "#KNN Neighbours"
   ]
  },
  {
   "cell_type": "code",
   "execution_count": 38,
   "metadata": {},
   "outputs": [
    {
     "name": "stdout",
     "output_type": "stream",
     "text": [
      "r2_score for k-neighbors  regression model is   0.9401489638759795\n",
      "Root mean squared error for k-neighbors regression model is  103263.25580766858\n"
     ]
    }
   ],
   "source": [
    "from sklearn.metrics import accuracy_score \n",
    "from sklearn.metrics import r2_score,mean_squared_error\n",
    "from sklearn.neighbors import KNeighborsRegressor\n",
    "kn=KNeighborsRegressor(n_neighbors=10)\n",
    "kn.fit(x_train,y_train)\n",
    "y_pred2=kn.predict(x_test)\n",
    "r=r2_score(y_test,y_pred2)\n",
    "m=mean_squared_error(y_test,y_pred2)\n",
    "print(\"r2_score for k-neighbors  regression model is  \",r)\n",
    "print(\"Root mean squared error for k-neighbors regression model is \",np.sqrt(m))"
   ]
  },
  {
   "cell_type": "code",
   "execution_count": 39,
   "metadata": {},
   "outputs": [
    {
     "name": "stdout",
     "output_type": "stream",
     "text": [
      "    Placement\n",
      "62     280000\n",
      "40          0\n",
      "95     200000\n",
      "18     400000\n",
      "97     300000\n",
      "84     200000\n",
      "64     160000\n",
      "42    1300000\n",
      "10          0\n",
      "0     1100000\n"
     ]
    }
   ],
   "source": [
    "print(y_test)"
   ]
  },
  {
   "cell_type": "code",
   "execution_count": 40,
   "metadata": {},
   "outputs": [
    {
     "name": "stdout",
     "output_type": "stream",
     "text": [
      "[[ 189000.]\n",
      " [      0.]\n",
      " [ 353000.]\n",
      " [ 442000.]\n",
      " [ 220000.]\n",
      " [ 223000.]\n",
      " [ 260000.]\n",
      " [1111000.]\n",
      " [  48000.]\n",
      " [ 965000.]]\n"
     ]
    }
   ],
   "source": [
    "print(y_pred2)"
   ]
  },
  {
   "cell_type": "code",
   "execution_count": 41,
   "metadata": {},
   "outputs": [
    {
     "name": "stdout",
     "output_type": "stream",
     "text": [
      "[[585000.]]\n"
     ]
    }
   ],
   "source": [
    "xp=[[8.19,0,0,0,1,3,1]]\n",
    "ynew = kn.predict(xp)\n",
    "print(ynew)"
   ]
  },
  {
   "cell_type": "code",
   "execution_count": 292,
   "metadata": {},
   "outputs": [],
   "source": [
    "#Desicion Tree"
   ]
  },
  {
   "cell_type": "code",
   "execution_count": 293,
   "metadata": {},
   "outputs": [
    {
     "name": "stdout",
     "output_type": "stream",
     "text": [
      "r2_score for decision tree regression model is   0.7266002110415123\n",
      "Root mean squared error for decision tree regression model is  220703.42090688128\n"
     ]
    }
   ],
   "source": [
    "from sklearn.tree import DecisionTreeRegressor\n",
    "dt=DecisionTreeRegressor(random_state=13)\n",
    "dt.fit(x_train,y_train)\n",
    "y_pred1=dt.predict(x_test)\n",
    "r=r2_score(y_test,y_pred1)\n",
    "m=mean_squared_error(y_test,y_pred1)\n",
    "print(\"r2_score for decision tree regression model is  \",r)\n",
    "print(\"Root mean squared error for decision tree regression model is \",np.sqrt(m))"
   ]
  },
  {
   "cell_type": "code",
   "execution_count": 294,
   "metadata": {},
   "outputs": [
    {
     "name": "stdout",
     "output_type": "stream",
     "text": [
      "[300000.]\n"
     ]
    }
   ],
   "source": [
    "xp1=[[6.2,0,0,1,0,2,1]]\n",
    "ynew1 = dt.predict(xp1)\n",
    "print(ynew1)"
   ]
  },
  {
   "cell_type": "code",
   "execution_count": 295,
   "metadata": {},
   "outputs": [
    {
     "name": "stdout",
     "output_type": "stream",
     "text": [
      "    Placement\n",
      "62     280000\n",
      "40          0\n",
      "95     200000\n",
      "18     400000\n",
      "97     300000\n",
      "84     200000\n",
      "64     160000\n",
      "42    1300000\n",
      "10          0\n",
      "0     1100000      [ 120000.       0.  570000.  340000.  450000.  120000.  180000. 1290000.\n",
      "       0.  560000.]\n"
     ]
    }
   ],
   "source": [
    "print(y_test,\"    \",y_pred1)"
   ]
  },
  {
   "cell_type": "code",
   "execution_count": null,
   "metadata": {},
   "outputs": [],
   "source": []
  },
  {
   "cell_type": "code",
   "execution_count": 296,
   "metadata": {},
   "outputs": [],
   "source": [
    "#xgbooost Regressor"
   ]
  },
  {
   "cell_type": "code",
   "execution_count": 297,
   "metadata": {},
   "outputs": [
    {
     "name": "stdout",
     "output_type": "stream",
     "text": [
      "[17:29:02] WARNING: C:/Jenkins/workspace/xgboost-win64_release_0.90/src/objective/regression_obj.cu:152: reg:linear is now deprecated in favor of reg:squarederror.\n",
      "r2_score for xgboost regression model is   0.852527134171532\n",
      "Root mean squared error for xgboost regression model is  162093.6632551167\n"
     ]
    }
   ],
   "source": [
    "from xgboost import XGBRegressor\n",
    "model=XGBRegressor()\n",
    "model.fit(x_train,y_train)\n",
    "y_p=model.predict(x_test)\n",
    "r=r2_score(y_test,y_p)\n",
    "m=mean_squared_error(y_test,y_p)\n",
    "print(\"r2_score for xgboost regression model is  \",r)\n",
    "print(\"Root mean squared error for xgboost regression model is \",np.sqrt(m))"
   ]
  },
  {
   "cell_type": "code",
   "execution_count": null,
   "metadata": {},
   "outputs": [],
   "source": []
  },
  {
   "cell_type": "code",
   "execution_count": 298,
   "metadata": {},
   "outputs": [
    {
     "name": "stdout",
     "output_type": "stream",
     "text": [
      "    Placement\n",
      "62     280000\n",
      "40          0\n",
      "95     200000\n",
      "18     400000\n",
      "97     300000\n",
      "84     200000\n",
      "64     160000\n",
      "42    1300000\n",
      "10          0\n",
      "0     1100000        [ 168332.7       3378.742   384510.53    339698.94    369165.94\n",
      "  146111.64    172094.16   1289736.2       7256.6787  647683.7   ]\n"
     ]
    }
   ],
   "source": [
    "print(y_test,\"      \",y_p)"
   ]
  },
  {
   "cell_type": "code",
   "execution_count": null,
   "metadata": {},
   "outputs": [],
   "source": []
  },
  {
   "cell_type": "code",
   "execution_count": null,
   "metadata": {},
   "outputs": [],
   "source": []
  },
  {
   "cell_type": "code",
   "execution_count": 299,
   "metadata": {},
   "outputs": [],
   "source": [
    "# Gradient Boost regressor"
   ]
  },
  {
   "cell_type": "code",
   "execution_count": 300,
   "metadata": {},
   "outputs": [
    {
     "name": "stdout",
     "output_type": "stream",
     "text": [
      "Score = 0.8576100960524331\n",
      "Root mean squared error for xgboost regression model is  159275.71957744946\n"
     ]
    },
    {
     "name": "stderr",
     "output_type": "stream",
     "text": [
      "C:\\Users\\hp\\Anaconda3\\lib\\site-packages\\sklearn\\utils\\validation.py:761: DataConversionWarning: A column-vector y was passed when a 1d array was expected. Please change the shape of y to (n_samples, ), for example using ravel().\n",
      "  y = column_or_1d(y, warn=True)\n"
     ]
    }
   ],
   "source": [
    "from sklearn import ensemble\n",
    "clf = ensemble.GradientBoostingRegressor(n_estimators = 400, max_depth = 5, min_samples_split = 2,\n",
    "          learning_rate = 0.1, loss = 'ls')\n",
    "clf.fit(x_train, y_train)\n",
    "\n",
    "print(\"Score =\",clf.score(x_test,y_test))\n",
    "pred=clf.predict(x_test)\n",
    "m=mean_squared_error(y_test,pred)\n",
    "print(\"Root mean squared error for xgboost regression model is \",np.sqrt(m))"
   ]
  },
  {
   "cell_type": "code",
   "execution_count": 301,
   "metadata": {},
   "outputs": [
    {
     "name": "stdout",
     "output_type": "stream",
     "text": [
      "[333772.39678897]\n"
     ]
    }
   ],
   "source": [
    "xp=[[6.2,0,0,1,0,2,1]]\n",
    "ynew = clf.predict(xp)\n",
    "print(ynew)"
   ]
  },
  {
   "cell_type": "code",
   "execution_count": 302,
   "metadata": {},
   "outputs": [
    {
     "name": "stdout",
     "output_type": "stream",
     "text": [
      "    Placement\n",
      "62     280000\n",
      "40          0\n",
      "95     200000\n",
      "18     400000\n",
      "97     300000\n",
      "84     200000\n",
      "64     160000\n",
      "42    1300000\n",
      "10          0\n",
      "0     1100000     [ 1.57183086e+05 -1.11521568e+02  3.58321336e+05  3.87246887e+05\n",
      "  3.79502725e+05  1.18649383e+05  1.77517678e+05  1.28431523e+06\n",
      "  2.98384277e+02  6.52916475e+05]\n"
     ]
    }
   ],
   "source": [
    "print(y_test,\"   \",pred)"
   ]
  },
  {
   "cell_type": "code",
   "execution_count": null,
   "metadata": {},
   "outputs": [],
   "source": []
  },
  {
   "cell_type": "code",
   "execution_count": 303,
   "metadata": {},
   "outputs": [],
   "source": [
    "#lgbm Regressor"
   ]
  },
  {
   "cell_type": "code",
   "execution_count": 304,
   "metadata": {},
   "outputs": [
    {
     "name": "stdout",
     "output_type": "stream",
     "text": [
      "r2_score for LGBM regression model is   0.8674666873045027\n",
      "Root mean squared error for LGBM regression model is  153664.1308929334\n"
     ]
    }
   ],
   "source": [
    "from lightgbm import LGBMRegressor\n",
    "lgbm=LGBMRegressor(random_state=45)\n",
    "lgbm.fit(x_train,y_train)\n",
    "y_predict1=lgbm.predict(x_test)\n",
    "r=r2_score(y_test,y_predict1)\n",
    "m=mean_squared_error(y_test,y_predict1)\n",
    "print(\"r2_score for LGBM regression model is  \",r)\n",
    "print(\"Root mean squared error for LGBM regression model is \",np.sqrt(m))"
   ]
  },
  {
   "cell_type": "code",
   "execution_count": 305,
   "metadata": {},
   "outputs": [
    {
     "name": "stdout",
     "output_type": "stream",
     "text": [
      "[322453.48515901]\n"
     ]
    }
   ],
   "source": [
    "xp=[[6.2,0,0,1,0,2,1]]\n",
    "ynew = lgbm.predict(xp)\n",
    "print(ynew)"
   ]
  },
  {
   "cell_type": "code",
   "execution_count": 306,
   "metadata": {},
   "outputs": [
    {
     "name": "stdout",
     "output_type": "stream",
     "text": [
      "    Placement\n",
      "62     280000\n",
      "40          0\n",
      "95     200000\n",
      "18     400000\n",
      "97     300000\n",
      "84     200000\n",
      "64     160000\n",
      "42    1300000\n",
      "10          0\n",
      "0     1100000        [ 168501.00379309   41177.93070001  322692.12114052  295764.82518904\n",
      "  317271.03339603  128255.09632459  150258.55508792 1045256.65304041\n",
      "   24626.56194566  746390.72562966]\n"
     ]
    }
   ],
   "source": [
    "print(y_test,\"      \",y_predict1)"
   ]
  },
  {
   "cell_type": "code",
   "execution_count": null,
   "metadata": {},
   "outputs": [],
   "source": []
  },
  {
   "cell_type": "code",
   "execution_count": 307,
   "metadata": {},
   "outputs": [
    {
     "name": "stderr",
     "output_type": "stream",
     "text": [
      "C:\\Users\\hp\\Anaconda3\\lib\\site-packages\\ipykernel_launcher.py:5: DataConversionWarning: A column-vector y was passed when a 1d array was expected. Please change the shape of y to (n_samples,), for example using ravel().\n",
      "  \"\"\"\n"
     ]
    },
    {
     "name": "stdout",
     "output_type": "stream",
     "text": [
      "r2_score for LGBM regression model is   0.8641139624166498\n",
      "Root mean squared error for LGBM regression model is  155595.62975867928\n"
     ]
    }
   ],
   "source": [
    "from sklearn import ensemble, model_selection \n",
    "RFC = ensemble.RandomForestClassifier( n_estimators = 100,max_depth = 8, min_samples_split = 4, n_jobs = -1, random_state = 1 )\n",
    "\n",
    "#fitting in to dataset\n",
    "RFC = RFC.fit(x_train, y_train)\n",
    "#Score of the train dataset\n",
    "\n",
    "\n",
    "\n",
    "y_predict1=RFC.predict(x_test)\n",
    "r=r2_score(y_test,y_predict1)\n",
    "m=mean_squared_error(y_test,y_predict1)\n",
    "print(\"r2_score for LGBM regression model is  \",r)\n",
    "print(\"Root mean squared error for LGBM regression model is \",np.sqrt(m))"
   ]
  },
  {
   "cell_type": "code",
   "execution_count": 314,
   "metadata": {},
   "outputs": [
    {
     "data": {
      "image/png": "[encoded data removed]",
      "text/plain": [
       "<Figure size 432x288 with 1 Axes>"
      ]
     },
     "metadata": {
      "needs_background": "light"
     },
     "output_type": "display_data"
    }
   ],
   "source": [
    "regressionmodels=['linear','knn','Decision Tree','xgb','Gradient Boost','lgbm','RandomForest']\n",
    "errors=['r2_score','RMSE']\n",
    "index = np.arange(len(regressionmodels))\n",
    "bar_width=0.35\n",
    "r=[0.9308,0.9104,0.85582,0.8967,0.8919,0.8718,0.987]\n",
    "m=[0.0624,0.07098,0.09005,0.07622,0.07796,0.08492,0.09876]\n",
    "plt.bar(index,r,bar_width,color='green',edgecolor='white')\n",
    "plt.bar(index+bar_width,m,bar_width,color='red',edgecolor='white')\n",
    "plt.xticks(index, regressionmodels)\n",
    "plt.xlabel('regression models', fontsize=1)\n",
    "\n",
    "plt.title('Metric score for different regression models',fontsize=18)\n",
    "plt.legend(errors)\n",
    "plt.show()"
   ]
  },
  {
   "cell_type": "code",
   "execution_count": null,
   "metadata": {},
   "outputs": [],
   "source": []
  },
  {
   "cell_type": "code",
   "execution_count": null,
   "metadata": {},
   "outputs": [],
   "source": [
    "#So here the best model is linear Regression "
   ]
  },
  {
   "cell_type": "code",
   "execution_count": null,
   "metadata": {},
   "outputs": [],
   "source": []
  }
 ],
 "metadata": {
  "kernelspec": {
   "display_name": "Python 3",
   "language": "python",
   "name": "python3"
  },
  "language_info": {
   "codemirror_mode": {
    "name": "ipython",
    "version": 3
   },
   "file_extension": ".py",
   "mimetype": "text/x-python",
   "name": "python",
   "nbconvert_exporter": "python",
   "pygments_lexer": "ipython3",
   "version": "3.7.3"
  }
 },
 "nbformat": 4,
 "nbformat_minor": 2
}
